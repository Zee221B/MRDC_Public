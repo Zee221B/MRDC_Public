{
 "cells": [
  {
   "cell_type": "code",
   "execution_count": null,
   "metadata": {},
   "outputs": [],
   "source": [
    "#to do list\n",
    "#remove duplicates - done\n",
    "#remove null values - done\n",
    "#remove error in formatting - done\n",
    "\n",
    "import pandas as pd\n",
    "import tabula\n",
    "from tabula import read_pdf\n",
    "\n",
    "\n",
    "from database_utils import DatabaseConnector \n",
    "from database_utils import DataExtractor\n",
    "from database_utils import DataCleaning\n",
    "\n",
    "database_connector = DatabaseConnector()\n",
    "data_extractor = DataExtractor()\n",
    "data_cleaning = DataCleaning()\n",
    "\n",
    "pdf_path = \"https://data-handling-public.s3.eu-west-1.amazonaws.com/card_details.pdf\"\n",
    "df2 = tabula.read_pdf(pdf_path, pages='all')\n",
    "df2 = pd.concat(tabula.read_pdf(pdf_path, pages='all'), ignore_index=True)\n",
    "#print(df2)\n"
   ]
  },
  {
   "cell_type": "code",
   "execution_count": null,
   "metadata": {},
   "outputs": [],
   "source": [
    "#Identify and remove null/gibberish values\n",
    "# unique_card_providers = df2['card_provider'].unique()\n",
    "# unique_card_providers\n",
    "my_card_provider = [\"VISA 16 digit\", \"JCB 16 digit\", \"VISA 13 digit\", \"VISA 19 digit\", \"JCB 15 digit\", \"Diners Club / Carte Blanche\", \"American Express\", \"Maestro\", \"Discover\", \"Mastercard\"]\n",
    "#df2[df2.card_provider.isin(my_card_provider)].set_index('card_provider')\n",
    "df3 = df2.dropna()\n",
    "df3[df3.card_provider.isin(my_card_provider)].set_index('card_provider')\n",
    "#df3.info()\n",
    "df3 = df3.reset_index(drop=True)\n",
    "df3.info()"
   ]
  },
  {
   "cell_type": "code",
   "execution_count": null,
   "metadata": {},
   "outputs": [],
   "source": [
    "df2.to_string('df2.txt')"
   ]
  },
  {
   "cell_type": "code",
   "execution_count": null,
   "metadata": {},
   "outputs": [],
   "source": [
    "df2.info()"
   ]
  },
  {
   "cell_type": "code",
   "execution_count": 29,
   "metadata": {},
   "outputs": [
    {
     "name": "stdout",
     "output_type": "stream",
     "text": [
      "<class 'pandas.core.frame.DataFrame'>\n",
      "RangeIndex: 15309 entries, 0 to 15308\n",
      "Data columns (total 4 columns):\n",
      " #   Column                  Non-Null Count  Dtype \n",
      "---  ------                  --------------  ----- \n",
      " 0   card_number             15309 non-null  string\n",
      " 1   expiry_date             15309 non-null  object\n",
      " 2   card_provider           15309 non-null  object\n",
      " 3   date_payment_confirmed  15309 non-null  object\n",
      "dtypes: object(3), string(1)\n",
      "memory usage: 478.5+ KB\n"
     ]
    }
   ],
   "source": [
    "df2['card_number'] = df2['card_number'].astype('string')\n",
    "#df2['card_number']\n",
    "df2.info()"
   ]
  },
  {
   "cell_type": "code",
   "execution_count": 30,
   "metadata": {},
   "outputs": [
    {
     "name": "stdout",
     "output_type": "stream",
     "text": [
      "<class 'pandas.core.frame.DataFrame'>\n",
      "RangeIndex: 15309 entries, 0 to 15308\n",
      "Data columns (total 4 columns):\n",
      " #   Column                  Non-Null Count  Dtype         \n",
      "---  ------                  --------------  -----         \n",
      " 0   card_number             15309 non-null  string        \n",
      " 1   expiry_date             1312 non-null   datetime64[ns]\n",
      " 2   card_provider           15309 non-null  object        \n",
      " 3   date_payment_confirmed  15309 non-null  object        \n",
      "dtypes: datetime64[ns](1), object(2), string(1)\n",
      "memory usage: 478.5+ KB\n"
     ]
    },
    {
     "name": "stderr",
     "output_type": "stream",
     "text": [
      "C:\\Users\\zbe17\\AppData\\Local\\Temp\\ipykernel_2004\\4133245064.py:2: UserWarning: The argument 'infer_datetime_format' is deprecated and will be removed in a future version. A strict version of it is now the default, see https://pandas.pydata.org/pdeps/0004-consistent-to-datetime-parsing.html. You can safely remove this argument.\n",
      "  df2[\"expiry_date\"] = pd.to_datetime(df2[\"expiry_date\"], infer_datetime_format=True, errors='coerce')\n",
      "C:\\Users\\zbe17\\AppData\\Local\\Temp\\ipykernel_2004\\4133245064.py:2: UserWarning: Could not infer format, so each element will be parsed individually, falling back to `dateutil`. To ensure parsing is consistent and as-expected, please specify a format.\n",
      "  df2[\"expiry_date\"] = pd.to_datetime(df2[\"expiry_date\"], infer_datetime_format=True, errors='coerce')\n"
     ]
    }
   ],
   "source": [
    "df2[\"expiry_date\"]\n",
    "df2[\"expiry_date\"] = pd.to_datetime(df2[\"expiry_date\"], infer_datetime_format=True, errors='coerce') \n",
    "df2.info()"
   ]
  },
  {
   "cell_type": "code",
   "execution_count": 31,
   "metadata": {},
   "outputs": [
    {
     "name": "stdout",
     "output_type": "stream",
     "text": [
      "<class 'pandas.core.frame.DataFrame'>\n",
      "RangeIndex: 15309 entries, 0 to 15308\n",
      "Data columns (total 4 columns):\n",
      " #   Column                  Non-Null Count  Dtype         \n",
      "---  ------                  --------------  -----         \n",
      " 0   card_number             15309 non-null  string        \n",
      " 1   expiry_date             1312 non-null   datetime64[ns]\n",
      " 2   card_provider           15309 non-null  object        \n",
      " 3   date_payment_confirmed  15276 non-null  datetime64[ns]\n",
      "dtypes: datetime64[ns](2), object(1), string(1)\n",
      "memory usage: 478.5+ KB\n"
     ]
    },
    {
     "name": "stderr",
     "output_type": "stream",
     "text": [
      "C:\\Users\\zbe17\\AppData\\Local\\Temp\\ipykernel_2004\\553250491.py:2: UserWarning: The argument 'infer_datetime_format' is deprecated and will be removed in a future version. A strict version of it is now the default, see https://pandas.pydata.org/pdeps/0004-consistent-to-datetime-parsing.html. You can safely remove this argument.\n",
      "  df2[\"date_payment_confirmed\"] = pd.to_datetime(df2[\"date_payment_confirmed\"], infer_datetime_format=True, errors='coerce')\n"
     ]
    }
   ],
   "source": [
    "df2[\"date_payment_confirmed\"]\n",
    "df2[\"date_payment_confirmed\"] = pd.to_datetime(df2[\"date_payment_confirmed\"], infer_datetime_format=True, errors='coerce')\n",
    "df2.info()"
   ]
  },
  {
   "cell_type": "code",
   "execution_count": 32,
   "metadata": {},
   "outputs": [],
   "source": [
    "df2['card_provider'] = df2['card_provider'].astype('category')\n",
    "#df2['card_provider']"
   ]
  },
  {
   "cell_type": "code",
   "execution_count": 33,
   "metadata": {},
   "outputs": [
    {
     "name": "stdout",
     "output_type": "stream",
     "text": [
      "<class 'pandas.core.frame.DataFrame'>\n",
      "RangeIndex: 15309 entries, 0 to 15308\n",
      "Data columns (total 4 columns):\n",
      " #   Column                  Non-Null Count  Dtype         \n",
      "---  ------                  --------------  -----         \n",
      " 0   card_number             15309 non-null  string        \n",
      " 1   expiry_date             1312 non-null   datetime64[ns]\n",
      " 2   card_provider           15309 non-null  category      \n",
      " 3   date_payment_confirmed  15276 non-null  datetime64[ns]\n",
      "dtypes: category(1), datetime64[ns](2), string(1)\n",
      "memory usage: 374.6 KB\n"
     ]
    }
   ],
   "source": [
    "df2.info()"
   ]
  },
  {
   "cell_type": "code",
   "execution_count": null,
   "metadata": {},
   "outputs": [],
   "source": [
    "df2.describe()\n"
   ]
  },
  {
   "cell_type": "code",
   "execution_count": null,
   "metadata": {},
   "outputs": [],
   "source": [
    "df2['card_provider'].value_counts()\n",
    "dfresult = df2['card_provider'].dropna()\n"
   ]
  },
  {
   "cell_type": "code",
   "execution_count": null,
   "metadata": {},
   "outputs": [],
   "source": [
    "df2['date_payment_confirmed'].value_counts()\n",
    "dfresult = df2['date_payment_confirmed'].dropna()\n",
    "print(dfresult)"
   ]
  },
  {
   "cell_type": "code",
   "execution_count": 34,
   "metadata": {},
   "outputs": [
    {
     "name": "stdout",
     "output_type": "stream",
     "text": [
      "<class 'pandas.core.frame.DataFrame'>\n",
      "RangeIndex: 15309 entries, 0 to 15308\n",
      "Data columns (total 4 columns):\n",
      " #   Column                  Non-Null Count  Dtype         \n",
      "---  ------                  --------------  -----         \n",
      " 0   card_number             15309 non-null  string        \n",
      " 1   expiry_date             1312 non-null   datetime64[ns]\n",
      " 2   card_provider           15309 non-null  category      \n",
      " 3   date_payment_confirmed  15276 non-null  datetime64[ns]\n",
      "dtypes: category(1), datetime64[ns](2), string(1)\n",
      "memory usage: 374.6 KB\n"
     ]
    }
   ],
   "source": [
    "df2.duplicated().sum()\n",
    "df2.duplicated(keep='first')\n",
    "df2.info()"
   ]
  },
  {
   "cell_type": "code",
   "execution_count": null,
   "metadata": {},
   "outputs": [],
   "source": [
    "df2['card_number'].value_counts()\n",
    "dfresult = df2['card_number'].dropna()\n",
    "print(dfresult)"
   ]
  },
  {
   "cell_type": "code",
   "execution_count": null,
   "metadata": {},
   "outputs": [],
   "source": [
    "df2['expiry_date'].value_counts()\n",
    "dfresult = df2['expiry_date'].dropna()\n",
    "print(dfresult)"
   ]
  },
  {
   "cell_type": "code",
   "execution_count": null,
   "metadata": {},
   "outputs": [],
   "source": [
    "df2['card_provider'].value_counts()\n",
    "dfresult = df2['card_provider'].dropna()\n",
    "print(dfresult)"
   ]
  },
  {
   "cell_type": "code",
   "execution_count": null,
   "metadata": {},
   "outputs": [],
   "source": [
    "df2['date_payment_confirmed'].value_counts()\n",
    "dfresult = df2['date_payment_confirmed'].dropna()\n",
    "print(dfresult)"
   ]
  },
  {
   "cell_type": "code",
   "execution_count": null,
   "metadata": {},
   "outputs": [],
   "source": [
    "df2['expiry_date'].value_counts()"
   ]
  },
  {
   "cell_type": "code",
   "execution_count": null,
   "metadata": {},
   "outputs": [],
   "source": [
    "df2['card_provider'].value_counts()\n",
    "my_card_provider = [\"VISA 16 digit\", \"JCB 16 digit\", \"VISA 13 digit\", \"VISA 19 digit\", \"JCB 15 digit\", \"Diners Club / Carte Blanche\", \"American Express\", \"Maestro\", \"Discover\", \"Mastercard\"]\n",
    "print(my_card_provider)\n",
    "\n",
    "df2[df2.card_provider.isin(my_card_provider)].set_index('card_provider')"
   ]
  },
  {
   "cell_type": "code",
   "execution_count": null,
   "metadata": {},
   "outputs": [],
   "source": [
    "#Identify any duplicate values\n",
    "df2.duplicated().sum()\n",
    "df2.duplicated(keep='first')\n",
    "df2.info()"
   ]
  },
  {
   "cell_type": "code",
   "execution_count": 35,
   "metadata": {},
   "outputs": [
    {
     "name": "stdout",
     "output_type": "stream",
     "text": [
      "<class 'pandas.core.frame.DataFrame'>\n",
      "RangeIndex: 1311 entries, 0 to 1310\n",
      "Data columns (total 4 columns):\n",
      " #   Column                  Non-Null Count  Dtype         \n",
      "---  ------                  --------------  -----         \n",
      " 0   card_number             1311 non-null   string        \n",
      " 1   expiry_date             1311 non-null   datetime64[ns]\n",
      " 2   card_provider           1311 non-null   category      \n",
      " 3   date_payment_confirmed  1311 non-null   datetime64[ns]\n",
      "dtypes: category(1), datetime64[ns](2), string(1)\n",
      "memory usage: 32.9 KB\n"
     ]
    }
   ],
   "source": [
    "#Identify and remove null/gibberish values\n",
    "my_card_provider = [\"VISA 16 digit\", \"JCB 16 digit\", \"VISA 13 digit\", \"VISA 19 digit\", \"JCB 15 digit\", \"Diners Club / Carte Blanche\", \"American Express\", \"Maestro\", \"Discover\", \"Mastercard\"]\n",
    "df2[df2.card_provider.isin(my_card_provider)].set_index('card_provider')\n",
    "df2.dropna(inplace=True)\n",
    "df2 = df2.reset_index(drop=True)\n",
    "df2.info()"
   ]
  },
  {
   "cell_type": "code",
   "execution_count": null,
   "metadata": {},
   "outputs": [],
   "source": [
    "my_card_provider = [\"VISA 16 digit\", \"JCB 16 digit\", \"VISA 13 digit\", \"VISA 19 digit\", \"JCB 15 digit\", \"Diners Club / Carte Blanche\", \"American Express\", \"Maestro\", \"Discover\", \"Mastercard\"]\n",
    "df2[df2.card_provider.isin(my_card_provider)].set_index('card_provider')\n",
    "df2.info()"
   ]
  },
  {
   "cell_type": "code",
   "execution_count": null,
   "metadata": {},
   "outputs": [],
   "source": [
    "df2.dropna(inplace=True)\n",
    "df2.info()"
   ]
  },
  {
   "cell_type": "code",
   "execution_count": null,
   "metadata": {},
   "outputs": [],
   "source": [
    "df2 = df2.reset_index(drop=True)\n",
    "df2.info()"
   ]
  }
 ],
 "metadata": {
  "kernelspec": {
   "display_name": "base",
   "language": "python",
   "name": "python3"
  },
  "language_info": {
   "codemirror_mode": {
    "name": "ipython",
    "version": 3
   },
   "file_extension": ".py",
   "mimetype": "text/x-python",
   "name": "python",
   "nbconvert_exporter": "python",
   "pygments_lexer": "ipython3",
   "version": "3.11.2"
  },
  "orig_nbformat": 4
 },
 "nbformat": 4,
 "nbformat_minor": 2
}
