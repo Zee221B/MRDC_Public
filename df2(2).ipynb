{
 "cells": [
  {
   "cell_type": "code",
   "execution_count": 19,
   "metadata": {},
   "outputs": [],
   "source": [
    "import pandas as pd\n",
    "import tabula\n",
    "from tabula import read_pdf\n",
    "\n",
    "\n",
    "from database_utils import DatabaseConnector \n",
    "from database_utils import DataExtractor\n",
    "from database_utils import DataCleaning\n",
    "\n",
    "database_connector = DatabaseConnector()\n",
    "data_extractor = DataExtractor()\n",
    "data_cleaning = DataCleaning()\n",
    "\n",
    "pdf_path = \"https://data-handling-public.s3.eu-west-1.amazonaws.com/card_details.pdf\"\n",
    "df2 = tabula.read_pdf(pdf_path, pages='all')\n",
    "df2 = pd.concat(tabula.read_pdf(pdf_path, pages='all'), ignore_index=True)\n"
   ]
  },
  {
   "cell_type": "code",
   "execution_count": 26,
   "metadata": {},
   "outputs": [],
   "source": [
    "unique_values = df2['card_provider'].unique().tolist()\n",
    "values_to_remove = unique_values[-14:]\n",
    "df2.drop(df2[df2['card_provider'].isin(values_to_remove)].index, inplace=True)"
   ]
  },
  {
   "cell_type": "code",
   "execution_count": 38,
   "metadata": {},
   "outputs": [
    {
     "name": "stdout",
     "output_type": "stream",
     "text": [
      "<class 'pandas.core.frame.DataFrame'>\n",
      "RangeIndex: 15276 entries, 0 to 15275\n",
      "Data columns (total 4 columns):\n",
      " #   Column                  Non-Null Count  Dtype         \n",
      "---  ------                  --------------  -----         \n",
      " 0   card_number             15276 non-null  string        \n",
      " 1   expiry_date             15276 non-null  datetime64[ns]\n",
      " 2   card_provider           15276 non-null  category      \n",
      " 3   date_payment_confirmed  15276 non-null  datetime64[ns]\n",
      "dtypes: category(1), datetime64[ns](2), string(1)\n",
      "memory usage: 373.4 KB\n"
     ]
    }
   ],
   "source": [
    "\n",
    "import numpy as np\n",
    "#Identify any duplicate values\n",
    "df2.duplicated().sum()\n",
    "df2.duplicated(keep='first')\n",
    "my_card_provider = [\"VISA 16 digit\", \"JCB 16 digit\", \"VISA 13 digit\", \"VISA 19 digit\", \"JCB 15 digit\", \"Diners Club / Carte Blanche\", \"American Express\", \"Maestro\", \"Discover\", \"Mastercard\"]\n",
    "df2[df2.card_provider.isin(my_card_provider)].set_index('card_provider')\n",
    "df2.replace('NULL', np.nan, inplace=True)\n",
    "df2.dropna(inplace=True)\n",
    "df2.drop(df2[df2['date_payment_confirmed'] == 'December 2021 17'].index, inplace=True)\n",
    "df2.drop(df2[df2['date_payment_confirmed'] == 'December 2000 01'].index, inplace=True)\n",
    "df2.drop(df2[df2['date_payment_confirmed'] == '2008 May 11'].index, inplace=True)\n",
    "df2.drop(df2[df2['date_payment_confirmed'] == 'May 1998 09'].index, inplace=True)\n",
    "df2.drop(df2[df2['date_payment_confirmed'] == '2005 July 01'].index, inplace=True)\n",
    "df2.drop(df2[df2['date_payment_confirmed'] == 'September 2016 04'].index, inplace=True)\n",
    "df2.drop(df2[df2['date_payment_confirmed'] == ' October 2000 04'].index, inplace=True)\n",
    "df2.drop(df2[df2['date_payment_confirmed'] == '2017/05/15'].index, inplace=True)\n",
    "\n",
    "\n",
    "df2[\"expiry_date\"] = pd.to_datetime(df2[\"expiry_date\"], format='%m/%y') \n",
    "df2[\"date_payment_confirmed\"] = pd.to_datetime(df2[\"date_payment_confirmed\"])\n",
    "df2['card_provider'] = df2['card_provider'].astype('category')\n",
    "df2['card_number'] = df2['card_number'].astype('string')\n",
    "df2 = df2.reset_index(drop=True)\n",
    "\n",
    "\n",
    "\n",
    "#Identify and remove null/gibberish values\n",
    "\n",
    "\n",
    "df2.info()"
   ]
  },
  {
   "cell_type": "code",
   "execution_count": null,
   "metadata": {},
   "outputs": [],
   "source": []
  }
 ],
 "metadata": {
  "kernelspec": {
   "display_name": "dc_env",
   "language": "python",
   "name": "python3"
  },
  "language_info": {
   "codemirror_mode": {
    "name": "ipython",
    "version": 3
   },
   "file_extension": ".py",
   "mimetype": "text/x-python",
   "name": "python",
   "nbconvert_exporter": "python",
   "pygments_lexer": "ipython3",
   "version": "3.11.2"
  },
  "orig_nbformat": 4
 },
 "nbformat": 4,
 "nbformat_minor": 2
}
