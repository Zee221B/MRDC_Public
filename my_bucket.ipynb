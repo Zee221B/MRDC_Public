{
 "cells": [
  {
   "cell_type": "code",
   "execution_count": 1,
   "metadata": {},
   "outputs": [
    {
     "name": "stdout",
     "output_type": "stream",
     "text": [
      "      Unnamed: 0                                 product_name product_price   \n",
      "0              0  FurReal Dazzlin' Dimples My Playful Dolphin        £39.99  \\\n",
      "1              1          Tiffany's World Day Out At The Park        £12.99   \n",
      "2              2          Tiffany's World Pups Picnic Playset         £7.00   \n",
      "3              3     Tiffany's World Wildlife Park Adventures        £12.99   \n",
      "4              4                      Cosatto Cosy Dolls Pram        £30.00   \n",
      "...          ...                                          ...           ...   \n",
      "1848        1848    Goodmans Qi Autosense In Car Phone Holder        £15.00   \n",
      "1849        1849    Goodmans Qi Wireless Charging Phone Stand        £15.00   \n",
      "1850        1850                     RAC 12V Wet & Dry Vacuum        £18.00   \n",
      "1851        1851    Goodmans Qi Autosense In Car Phone Holder        £15.00   \n",
      "1852        1852               Beldray Telescopic Ladder 2.9m        £69.00   \n",
      "\n",
      "      weight        category            EAN  date_added   \n",
      "0      1.6kg  toys-and-games  7425710935115  2005-12-02  \\\n",
      "1     0.48kg  toys-and-games   487128731892  2006-01-09   \n",
      "2       590g  toys-and-games  1945816904649  1997-03-29   \n",
      "3       540g  toys-and-games  1569790890899  2013-03-20   \n",
      "4     1.91kg  toys-and-games  7142740213920  2007-12-23   \n",
      "...      ...             ...            ...         ...   \n",
      "1848    125g             diy  8185827751600  2020-08-28   \n",
      "1849    134g             diy  9769724533935  2012-05-20   \n",
      "1850    820g             diy  3113855860327  1993-11-28   \n",
      "1851    125g             diy  9195087467400  2016-09-20   \n",
      "1852   9.4kg             diy  8518402353072  2006-10-07   \n",
      "\n",
      "                                      uuid          removed product_code  \n",
      "0     83dc0a69-f96f-4c34-bcb7-928acae19a94  Still_avaliable  R7-3126933h  \n",
      "1     712254d7-aea7-4310-aff8-8bcdd0aec7ff  Still_avaliable  C2-7287916l  \n",
      "2     b089ef6f-b628-4e37-811d-fffe0102ba64  Still_avaliable  S7-1175877v  \n",
      "3     d55de422-8b98-47d6-9991-e4bc4c5c0cb0          Removed  D8-8421505n  \n",
      "4     7945b657-cb02-4cc5-96cf-f65ed0a8f235  Still_avaliable  B6-2596063a  \n",
      "...                                    ...              ...          ...  \n",
      "1848  3ff21cb1-8e90-499d-b5a0-6839fb83e70f  Still_avaliable  x4-2227164k  \n",
      "1849  a7910f74-c2b6-4144-98b7-30ca68f34d2d  Still_avaliable  i3-8338545Z  \n",
      "1850  66d3efa0-f480-4da9-893b-e8aaff53e27b  Still_avaliable  n4-1642658b  \n",
      "1851  efb472f1-8f00-448e-a874-9fa9812eeab5  Still_avaliable  A3-7619070S  \n",
      "1852  cfe701da-6493-4a7f-83cf-9aab1650f689  Still_avaliable  i6-2851854w  \n",
      "\n",
      "[1853 rows x 10 columns]\n"
     ]
    }
   ],
   "source": [
    "import pandas as pd\n",
    "import requests\n",
    "import boto3\n",
    "\n",
    "\n",
    "from database_utils import DatabaseConnector \n",
    "from database_utils import DataExtractor\n",
    "from database_utils import DataCleaning\n",
    "\n",
    "database_connector = DatabaseConnector()\n",
    "data_extractor = DataExtractor()\n",
    "data_cleaning = DataCleaning()\n",
    "\n",
    "data_extractor = DataExtractor()\n",
    "my_bucket = data_extractor.extract_from_s3('s3://data-handling-public/products.csv')\n",
    "print(my_bucket)\n",
    "\n"
   ]
  },
  {
   "cell_type": "code",
   "execution_count": 9,
   "metadata": {},
   "outputs": [
    {
     "data": {
      "text/html": [
       "<div>\n",
       "<style scoped>\n",
       "    .dataframe tbody tr th:only-of-type {\n",
       "        vertical-align: middle;\n",
       "    }\n",
       "\n",
       "    .dataframe tbody tr th {\n",
       "        vertical-align: top;\n",
       "    }\n",
       "\n",
       "    .dataframe thead th {\n",
       "        text-align: right;\n",
       "    }\n",
       "</style>\n",
       "<table border=\"1\" class=\"dataframe\">\n",
       "  <thead>\n",
       "    <tr style=\"text-align: right;\">\n",
       "      <th></th>\n",
       "      <th>Unnamed: 0</th>\n",
       "    </tr>\n",
       "  </thead>\n",
       "  <tbody>\n",
       "    <tr>\n",
       "      <th>count</th>\n",
       "      <td>1853.000000</td>\n",
       "    </tr>\n",
       "    <tr>\n",
       "      <th>mean</th>\n",
       "      <td>926.000000</td>\n",
       "    </tr>\n",
       "    <tr>\n",
       "      <th>std</th>\n",
       "      <td>535.059343</td>\n",
       "    </tr>\n",
       "    <tr>\n",
       "      <th>min</th>\n",
       "      <td>0.000000</td>\n",
       "    </tr>\n",
       "    <tr>\n",
       "      <th>25%</th>\n",
       "      <td>463.000000</td>\n",
       "    </tr>\n",
       "    <tr>\n",
       "      <th>50%</th>\n",
       "      <td>926.000000</td>\n",
       "    </tr>\n",
       "    <tr>\n",
       "      <th>75%</th>\n",
       "      <td>1389.000000</td>\n",
       "    </tr>\n",
       "    <tr>\n",
       "      <th>max</th>\n",
       "      <td>1852.000000</td>\n",
       "    </tr>\n",
       "  </tbody>\n",
       "</table>\n",
       "</div>"
      ],
      "text/plain": [
       "        Unnamed: 0\n",
       "count  1853.000000\n",
       "mean    926.000000\n",
       "std     535.059343\n",
       "min       0.000000\n",
       "25%     463.000000\n",
       "50%     926.000000\n",
       "75%    1389.000000\n",
       "max    1852.000000"
      ]
     },
     "execution_count": 9,
     "metadata": {},
     "output_type": "execute_result"
    }
   ],
   "source": [
    "my_bucket.describe()"
   ]
  },
  {
   "cell_type": "code",
   "execution_count": 10,
   "metadata": {},
   "outputs": [
    {
     "name": "stdout",
     "output_type": "stream",
     "text": [
      "<class 'pandas.core.frame.DataFrame'>\n",
      "RangeIndex: 1853 entries, 0 to 1852\n",
      "Data columns (total 10 columns):\n",
      " #   Column         Non-Null Count  Dtype \n",
      "---  ------         --------------  ----- \n",
      " 0   Unnamed: 0     1853 non-null   int64 \n",
      " 1   product_name   1849 non-null   object\n",
      " 2   product_price  1849 non-null   object\n",
      " 3   weight         1849 non-null   object\n",
      " 4   category       1849 non-null   object\n",
      " 5   EAN            1849 non-null   object\n",
      " 6   date_added     1849 non-null   object\n",
      " 7   uuid           1849 non-null   object\n",
      " 8   removed        1849 non-null   object\n",
      " 9   product_code   1849 non-null   object\n",
      "dtypes: int64(1), object(9)\n",
      "memory usage: 144.9+ KB\n"
     ]
    }
   ],
   "source": [
    "my_bucket.info()"
   ]
  },
  {
   "cell_type": "code",
   "execution_count": 12,
   "metadata": {},
   "outputs": [],
   "source": [
    "my_bucket.dropna(inplace=True)\n",
    "my_bucket = my_bucket.reset_index(drop=True)"
   ]
  },
  {
   "cell_type": "code",
   "execution_count": 15,
   "metadata": {},
   "outputs": [
    {
     "name": "stdout",
     "output_type": "stream",
     "text": [
      "      Unnamed: 0                                 product_name product_price   \n",
      "0              0  FurReal Dazzlin' Dimples My Playful Dolphin        £39.99  \\\n",
      "1              1          Tiffany's World Day Out At The Park        £12.99   \n",
      "2              2          Tiffany's World Pups Picnic Playset         £7.00   \n",
      "3              3     Tiffany's World Wildlife Park Adventures        £12.99   \n",
      "4              4                      Cosatto Cosy Dolls Pram        £30.00   \n",
      "...          ...                                          ...           ...   \n",
      "1844        1848    Goodmans Qi Autosense In Car Phone Holder        £15.00   \n",
      "1845        1849    Goodmans Qi Wireless Charging Phone Stand        £15.00   \n",
      "1846        1850                     RAC 12V Wet & Dry Vacuum        £18.00   \n",
      "1847        1851    Goodmans Qi Autosense In Car Phone Holder        £15.00   \n",
      "1848        1852               Beldray Telescopic Ladder 2.9m        £69.00   \n",
      "\n",
      "     weight        category            EAN  date_added   \n",
      "0       1.6  toys-and-games  7425710935115  2005-12-02  \\\n",
      "1      0.48  toys-and-games   487128731892  2006-01-09   \n",
      "2       590  toys-and-games  1945816904649  1997-03-29   \n",
      "3       540  toys-and-games  1569790890899  2013-03-20   \n",
      "4      1.91  toys-and-games  7142740213920  2007-12-23   \n",
      "...     ...             ...            ...         ...   \n",
      "1844    125             diy  8185827751600  2020-08-28   \n",
      "1845    134             diy  9769724533935  2012-05-20   \n",
      "1846    820             diy  3113855860327  1993-11-28   \n",
      "1847    125             diy  9195087467400  2016-09-20   \n",
      "1848    9.4             diy  8518402353072  2006-10-07   \n",
      "\n",
      "                                      uuid          removed product_code  \n",
      "0     83dc0a69-f96f-4c34-bcb7-928acae19a94  Still_avaliable  R7-3126933h  \n",
      "1     712254d7-aea7-4310-aff8-8bcdd0aec7ff  Still_avaliable  C2-7287916l  \n",
      "2     b089ef6f-b628-4e37-811d-fffe0102ba64  Still_avaliable  S7-1175877v  \n",
      "3     d55de422-8b98-47d6-9991-e4bc4c5c0cb0          Removed  D8-8421505n  \n",
      "4     7945b657-cb02-4cc5-96cf-f65ed0a8f235  Still_avaliable  B6-2596063a  \n",
      "...                                    ...              ...          ...  \n",
      "1844  3ff21cb1-8e90-499d-b5a0-6839fb83e70f  Still_avaliable  x4-2227164k  \n",
      "1845  a7910f74-c2b6-4144-98b7-30ca68f34d2d  Still_avaliable  i3-8338545Z  \n",
      "1846  66d3efa0-f480-4da9-893b-e8aaff53e27b  Still_avaliable  n4-1642658b  \n",
      "1847  efb472f1-8f00-448e-a874-9fa9812eeab5  Still_avaliable  A3-7619070S  \n",
      "1848  cfe701da-6493-4a7f-83cf-9aab1650f689  Still_avaliable  i6-2851854w  \n",
      "\n",
      "[1849 rows x 10 columns]\n"
     ]
    }
   ],
   "source": [
    "my_bucket['weight'] = my_bucket['weight'].apply(lambda a : a.replace(\"kg\", \" \").replace(\"g\", \" \").replace(\"ml\", \" \").replace(\"oz\", \" \"). replace(\"x\", \"\") ) \n",
    "print(my_bucket)\n",
    "\n",
    "#removed all kg and g using  replace method and from every row using apply lambda"
   ]
  },
  {
   "cell_type": "code",
   "execution_count": 38,
   "metadata": {},
   "outputs": [
    {
     "name": "stdout",
     "output_type": "stream",
     "text": [
      "      Unnamed: 0                                 product_name product_price   \n",
      "0              0  FurReal Dazzlin' Dimples My Playful Dolphin         39.99  \\\n",
      "1              1          Tiffany's World Day Out At The Park         12.99   \n",
      "2              2          Tiffany's World Pups Picnic Playset          7.00   \n",
      "3              3     Tiffany's World Wildlife Park Adventures         12.99   \n",
      "4              4                      Cosatto Cosy Dolls Pram         30.00   \n",
      "...          ...                                          ...           ...   \n",
      "1844        1848    Goodmans Qi Autosense In Car Phone Holder         15.00   \n",
      "1845        1849    Goodmans Qi Wireless Charging Phone Stand         15.00   \n",
      "1846        1850                     RAC 12V Wet & Dry Vacuum         18.00   \n",
      "1847        1851    Goodmans Qi Autosense In Car Phone Holder         15.00   \n",
      "1848        1852               Beldray Telescopic Ladder 2.9m         69.00   \n",
      "\n",
      "      weight        category            EAN  date_added   \n",
      "0       1.60  toys-and-games  7425710935115  2005-12-02  \\\n",
      "1       0.48  toys-and-games   487128731892  2006-01-09   \n",
      "2     590.00  toys-and-games  1945816904649  1997-03-29   \n",
      "3     540.00  toys-and-games  1569790890899  2013-03-20   \n",
      "4       1.91  toys-and-games  7142740213920  2007-12-23   \n",
      "...      ...             ...            ...         ...   \n",
      "1844  125.00             diy  8185827751600  2020-08-28   \n",
      "1845  134.00             diy  9769724533935  2012-05-20   \n",
      "1846  820.00             diy  3113855860327  1993-11-28   \n",
      "1847  125.00             diy  9195087467400  2016-09-20   \n",
      "1848    9.40             diy  8518402353072  2006-10-07   \n",
      "\n",
      "                                      uuid          removed product_code  \n",
      "0     83dc0a69-f96f-4c34-bcb7-928acae19a94  Still_avaliable  R7-3126933h  \n",
      "1     712254d7-aea7-4310-aff8-8bcdd0aec7ff  Still_avaliable  C2-7287916l  \n",
      "2     b089ef6f-b628-4e37-811d-fffe0102ba64  Still_avaliable  S7-1175877v  \n",
      "3     d55de422-8b98-47d6-9991-e4bc4c5c0cb0          Removed  D8-8421505n  \n",
      "4     7945b657-cb02-4cc5-96cf-f65ed0a8f235  Still_avaliable  B6-2596063a  \n",
      "...                                    ...              ...          ...  \n",
      "1844  3ff21cb1-8e90-499d-b5a0-6839fb83e70f  Still_avaliable  x4-2227164k  \n",
      "1845  a7910f74-c2b6-4144-98b7-30ca68f34d2d  Still_avaliable  i3-8338545Z  \n",
      "1846  66d3efa0-f480-4da9-893b-e8aaff53e27b  Still_avaliable  n4-1642658b  \n",
      "1847  efb472f1-8f00-448e-a874-9fa9812eeab5  Still_avaliable  A3-7619070S  \n",
      "1848  cfe701da-6493-4a7f-83cf-9aab1650f689  Still_avaliable  i6-2851854w  \n",
      "\n",
      "[1843 rows x 10 columns]\n"
     ]
    }
   ],
   "source": [
    "my_bucket['product_price'] = my_bucket['product_price'].apply(lambda a : a.replace(\"£\", \" \"))\n",
    "print(my_bucket)"
   ]
  },
  {
   "cell_type": "code",
   "execution_count": 36,
   "metadata": {},
   "outputs": [],
   "source": [
    "my_bucket['weight'] = my_bucket['weight'].astype('float64')"
   ]
  },
  {
   "cell_type": "code",
   "execution_count": 55,
   "metadata": {},
   "outputs": [
    {
     "data": {
      "text/plain": [
       "'1.6 '"
      ]
     },
     "execution_count": 55,
     "metadata": {},
     "output_type": "execute_result"
    }
   ],
   "source": [
    "my_bucket['weight'].iloc[0]\n",
    "\n",
    "#iloc - to get value one row"
   ]
  },
  {
   "cell_type": "code",
   "execution_count": 27,
   "metadata": {},
   "outputs": [
    {
     "ename": "KeyError",
     "evalue": "'[750] not found in axis'",
     "output_type": "error",
     "traceback": [
      "\u001b[1;31m---------------------------------------------------------------------------\u001b[0m",
      "\u001b[1;31mKeyError\u001b[0m                                  Traceback (most recent call last)",
      "Cell \u001b[1;32mIn[27], line 1\u001b[0m\n\u001b[1;32m----> 1\u001b[0m my_bucket \u001b[39m=\u001b[39m my_bucket\u001b[39m.\u001b[39;49mdrop([\u001b[39m750\u001b[39;49m])\n\u001b[0;32m      2\u001b[0m \u001b[39m#remove row 750\u001b[39;00m\n",
      "File \u001b[1;32mc:\\Users\\zbe17\\miniconda3\\envs\\dc_env\\Lib\\site-packages\\pandas\\core\\frame.py:5266\u001b[0m, in \u001b[0;36mDataFrame.drop\u001b[1;34m(self, labels, axis, index, columns, level, inplace, errors)\u001b[0m\n\u001b[0;32m   5118\u001b[0m \u001b[39mdef\u001b[39;00m \u001b[39mdrop\u001b[39m(\n\u001b[0;32m   5119\u001b[0m     \u001b[39mself\u001b[39m,\n\u001b[0;32m   5120\u001b[0m     labels: IndexLabel \u001b[39m=\u001b[39m \u001b[39mNone\u001b[39;00m,\n\u001b[1;32m   (...)\u001b[0m\n\u001b[0;32m   5127\u001b[0m     errors: IgnoreRaise \u001b[39m=\u001b[39m \u001b[39m\"\u001b[39m\u001b[39mraise\u001b[39m\u001b[39m\"\u001b[39m,\n\u001b[0;32m   5128\u001b[0m ) \u001b[39m-\u001b[39m\u001b[39m>\u001b[39m DataFrame \u001b[39m|\u001b[39m \u001b[39mNone\u001b[39;00m:\n\u001b[0;32m   5129\u001b[0m \u001b[39m    \u001b[39m\u001b[39m\"\"\"\u001b[39;00m\n\u001b[0;32m   5130\u001b[0m \u001b[39m    Drop specified labels from rows or columns.\u001b[39;00m\n\u001b[0;32m   5131\u001b[0m \n\u001b[1;32m   (...)\u001b[0m\n\u001b[0;32m   5264\u001b[0m \u001b[39m            weight  1.0     0.8\u001b[39;00m\n\u001b[0;32m   5265\u001b[0m \u001b[39m    \"\"\"\u001b[39;00m\n\u001b[1;32m-> 5266\u001b[0m     \u001b[39mreturn\u001b[39;00m \u001b[39msuper\u001b[39;49m()\u001b[39m.\u001b[39;49mdrop(\n\u001b[0;32m   5267\u001b[0m         labels\u001b[39m=\u001b[39;49mlabels,\n\u001b[0;32m   5268\u001b[0m         axis\u001b[39m=\u001b[39;49maxis,\n\u001b[0;32m   5269\u001b[0m         index\u001b[39m=\u001b[39;49mindex,\n\u001b[0;32m   5270\u001b[0m         columns\u001b[39m=\u001b[39;49mcolumns,\n\u001b[0;32m   5271\u001b[0m         level\u001b[39m=\u001b[39;49mlevel,\n\u001b[0;32m   5272\u001b[0m         inplace\u001b[39m=\u001b[39;49minplace,\n\u001b[0;32m   5273\u001b[0m         errors\u001b[39m=\u001b[39;49merrors,\n\u001b[0;32m   5274\u001b[0m     )\n",
      "File \u001b[1;32mc:\\Users\\zbe17\\miniconda3\\envs\\dc_env\\Lib\\site-packages\\pandas\\core\\generic.py:4549\u001b[0m, in \u001b[0;36mNDFrame.drop\u001b[1;34m(self, labels, axis, index, columns, level, inplace, errors)\u001b[0m\n\u001b[0;32m   4547\u001b[0m \u001b[39mfor\u001b[39;00m axis, labels \u001b[39min\u001b[39;00m axes\u001b[39m.\u001b[39mitems():\n\u001b[0;32m   4548\u001b[0m     \u001b[39mif\u001b[39;00m labels \u001b[39mis\u001b[39;00m \u001b[39mnot\u001b[39;00m \u001b[39mNone\u001b[39;00m:\n\u001b[1;32m-> 4549\u001b[0m         obj \u001b[39m=\u001b[39m obj\u001b[39m.\u001b[39;49m_drop_axis(labels, axis, level\u001b[39m=\u001b[39;49mlevel, errors\u001b[39m=\u001b[39;49merrors)\n\u001b[0;32m   4551\u001b[0m \u001b[39mif\u001b[39;00m inplace:\n\u001b[0;32m   4552\u001b[0m     \u001b[39mself\u001b[39m\u001b[39m.\u001b[39m_update_inplace(obj)\n",
      "File \u001b[1;32mc:\\Users\\zbe17\\miniconda3\\envs\\dc_env\\Lib\\site-packages\\pandas\\core\\generic.py:4591\u001b[0m, in \u001b[0;36mNDFrame._drop_axis\u001b[1;34m(self, labels, axis, level, errors, only_slice)\u001b[0m\n\u001b[0;32m   4589\u001b[0m         new_axis \u001b[39m=\u001b[39m axis\u001b[39m.\u001b[39mdrop(labels, level\u001b[39m=\u001b[39mlevel, errors\u001b[39m=\u001b[39merrors)\n\u001b[0;32m   4590\u001b[0m     \u001b[39melse\u001b[39;00m:\n\u001b[1;32m-> 4591\u001b[0m         new_axis \u001b[39m=\u001b[39m axis\u001b[39m.\u001b[39;49mdrop(labels, errors\u001b[39m=\u001b[39;49merrors)\n\u001b[0;32m   4592\u001b[0m     indexer \u001b[39m=\u001b[39m axis\u001b[39m.\u001b[39mget_indexer(new_axis)\n\u001b[0;32m   4594\u001b[0m \u001b[39m# Case for non-unique axis\u001b[39;00m\n\u001b[0;32m   4595\u001b[0m \u001b[39melse\u001b[39;00m:\n",
      "File \u001b[1;32mc:\\Users\\zbe17\\miniconda3\\envs\\dc_env\\Lib\\site-packages\\pandas\\core\\indexes\\base.py:6696\u001b[0m, in \u001b[0;36mIndex.drop\u001b[1;34m(self, labels, errors)\u001b[0m\n\u001b[0;32m   6694\u001b[0m \u001b[39mif\u001b[39;00m mask\u001b[39m.\u001b[39many():\n\u001b[0;32m   6695\u001b[0m     \u001b[39mif\u001b[39;00m errors \u001b[39m!=\u001b[39m \u001b[39m\"\u001b[39m\u001b[39mignore\u001b[39m\u001b[39m\"\u001b[39m:\n\u001b[1;32m-> 6696\u001b[0m         \u001b[39mraise\u001b[39;00m \u001b[39mKeyError\u001b[39;00m(\u001b[39mf\u001b[39m\u001b[39m\"\u001b[39m\u001b[39m{\u001b[39;00m\u001b[39mlist\u001b[39m(labels[mask])\u001b[39m}\u001b[39;00m\u001b[39m not found in axis\u001b[39m\u001b[39m\"\u001b[39m)\n\u001b[0;32m   6697\u001b[0m     indexer \u001b[39m=\u001b[39m indexer[\u001b[39m~\u001b[39mmask]\n\u001b[0;32m   6698\u001b[0m \u001b[39mreturn\u001b[39;00m \u001b[39mself\u001b[39m\u001b[39m.\u001b[39mdelete(indexer)\n",
      "\u001b[1;31mKeyError\u001b[0m: '[750] not found in axis'"
     ]
    }
   ],
   "source": [
    "my_bucket = my_bucket.drop([750])\n",
    "#remove row 750"
   ]
  },
  {
   "cell_type": "code",
   "execution_count": 28,
   "metadata": {},
   "outputs": [],
   "source": [
    "my_bucket = my_bucket.drop([1130])"
   ]
  },
  {
   "cell_type": "code",
   "execution_count": 34,
   "metadata": {},
   "outputs": [],
   "source": [
    "my_bucket = my_bucket.drop([1397])"
   ]
  },
  {
   "cell_type": "code",
   "execution_count": 73,
   "metadata": {},
   "outputs": [],
   "source": [
    "my_bucket.loc[my_bucket['weight'] == 'ml', 'weight'] = my_bucket.loc[my_bucket['weight'] == 'ml', 'weight'] * 0.001\n",
    "my_bucket.loc[my_bucket['weight'] == 'g', 'weight'] = my_bucket.loc[my_bucket['weight'] == 'g', 'weight'] * 0.001"
   ]
  },
  {
   "cell_type": "code",
   "execution_count": 35,
   "metadata": {},
   "outputs": [],
   "source": [
    "my_bucket.to_string('weight.txt')\n",
    "\n",
    "#view entire dataset - produces txt file in MRDC_public panel "
   ]
  },
  {
   "cell_type": "code",
   "execution_count": 3,
   "metadata": {},
   "outputs": [
    {
     "data": {
      "text/plain": [
       "str"
      ]
     },
     "execution_count": 3,
     "metadata": {},
     "output_type": "execute_result"
    }
   ],
   "source": [
    "#my_bucket['weight'].iloc[0].apply(lambda)\n",
    "type(my_bucket['weight'].iloc[0])\n",
    "\n",
    "# get value of one row, and apply to all other rows. Determine the data type using type()"
   ]
  },
  {
   "cell_type": "code",
   "execution_count": 11,
   "metadata": {},
   "outputs": [
    {
     "name": "stdout",
     "output_type": "stream",
     "text": [
      "1.6 \n"
     ]
    }
   ],
   "source": [
    "new_my_bucket = my_bucket['weight'].iloc[0].replace(\"kg\", \" \")\n",
    "print (new_my_bucket) \n",
    "\n",
    "# remove kg from row 0 of the weight column and print it - assign to new_my_bucket\n"
   ]
  },
  {
   "cell_type": "code",
   "execution_count": 5,
   "metadata": {},
   "outputs": [
    {
     "name": "stdout",
     "output_type": "stream",
     "text": [
      "<class 'float'>\n"
     ]
    }
   ],
   "source": [
    "#ew_my_bucket = float(new_my_bucket)\n",
    "#print(type(new_my_bucket))\n",
    "\n",
    "#convert from string to float"
   ]
  }
 ],
 "metadata": {
  "kernelspec": {
   "display_name": "dc_env",
   "language": "python",
   "name": "python3"
  },
  "language_info": {
   "codemirror_mode": {
    "name": "ipython",
    "version": 3
   },
   "file_extension": ".py",
   "mimetype": "text/x-python",
   "name": "python",
   "nbconvert_exporter": "python",
   "pygments_lexer": "ipython3",
   "version": "3.11.2"
  },
  "orig_nbformat": 4
 },
 "nbformat": 4,
 "nbformat_minor": 2
}
