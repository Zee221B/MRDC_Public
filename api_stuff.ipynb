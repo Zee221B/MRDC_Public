{
 "cells": [
  {
   "cell_type": "code",
   "execution_count": 1,
   "metadata": {},
   "outputs": [
    {
     "name": "stdout",
     "output_type": "stream",
     "text": [
      "      Unnamed: 0                                 product_name product_price   \n",
      "0              0  FurReal Dazzlin' Dimples My Playful Dolphin        £39.99  \\\n",
      "1              1          Tiffany's World Day Out At The Park        £12.99   \n",
      "2              2          Tiffany's World Pups Picnic Playset         £7.00   \n",
      "3              3     Tiffany's World Wildlife Park Adventures        £12.99   \n",
      "4              4                      Cosatto Cosy Dolls Pram        £30.00   \n",
      "...          ...                                          ...           ...   \n",
      "1848        1848    Goodmans Qi Autosense In Car Phone Holder        £15.00   \n",
      "1849        1849    Goodmans Qi Wireless Charging Phone Stand        £15.00   \n",
      "1850        1850                     RAC 12V Wet & Dry Vacuum        £18.00   \n",
      "1851        1851    Goodmans Qi Autosense In Car Phone Holder        £15.00   \n",
      "1852        1852               Beldray Telescopic Ladder 2.9m        £69.00   \n",
      "\n",
      "      weight        category            EAN  date_added   \n",
      "0      1.6kg  toys-and-games  7425710935115  2005-12-02  \\\n",
      "1     0.48kg  toys-and-games   487128731892  2006-01-09   \n",
      "2       590g  toys-and-games  1945816904649  1997-03-29   \n",
      "3       540g  toys-and-games  1569790890899  2013-03-20   \n",
      "4     1.91kg  toys-and-games  7142740213920  2007-12-23   \n",
      "...      ...             ...            ...         ...   \n",
      "1848    125g             diy  8185827751600  2020-08-28   \n",
      "1849    134g             diy  9769724533935  2012-05-20   \n",
      "1850    820g             diy  3113855860327  1993-11-28   \n",
      "1851    125g             diy  9195087467400  2016-09-20   \n",
      "1852   9.4kg             diy  8518402353072  2006-10-07   \n",
      "\n",
      "                                      uuid          removed product_code  \n",
      "0     83dc0a69-f96f-4c34-bcb7-928acae19a94  Still_avaliable  R7-3126933h  \n",
      "1     712254d7-aea7-4310-aff8-8bcdd0aec7ff  Still_avaliable  C2-7287916l  \n",
      "2     b089ef6f-b628-4e37-811d-fffe0102ba64  Still_avaliable  S7-1175877v  \n",
      "3     d55de422-8b98-47d6-9991-e4bc4c5c0cb0          Removed  D8-8421505n  \n",
      "4     7945b657-cb02-4cc5-96cf-f65ed0a8f235  Still_avaliable  B6-2596063a  \n",
      "...                                    ...              ...          ...  \n",
      "1848  3ff21cb1-8e90-499d-b5a0-6839fb83e70f  Still_avaliable  x4-2227164k  \n",
      "1849  a7910f74-c2b6-4144-98b7-30ca68f34d2d  Still_avaliable  i3-8338545Z  \n",
      "1850  66d3efa0-f480-4da9-893b-e8aaff53e27b  Still_avaliable  n4-1642658b  \n",
      "1851  efb472f1-8f00-448e-a874-9fa9812eeab5  Still_avaliable  A3-7619070S  \n",
      "1852  cfe701da-6493-4a7f-83cf-9aab1650f689  Still_avaliable  i6-2851854w  \n",
      "\n",
      "[1853 rows x 10 columns]\n"
     ]
    },
    {
     "ename": "IndentationError",
     "evalue": "expected an indented block after function definition on line 104 (data_cleaning.py, line 106)",
     "output_type": "error",
     "traceback": [
      "Traceback \u001b[1;36m(most recent call last)\u001b[0m:\n",
      "\u001b[0m  File \u001b[0;32mc:\\Users\\zbe17\\miniconda3\\envs\\dc_env\\Lib\\site-packages\\IPython\\core\\interactiveshell.py:3505\u001b[0m in \u001b[0;35mrun_code\u001b[0m\n    exec(code_obj, self.user_global_ns, self.user_ns)\u001b[0m\n",
      "\u001b[0m  Cell \u001b[0;32mIn[1], line 5\u001b[0m\n    from database_utils import DatabaseConnector\u001b[0m\n",
      "\u001b[1;36m  File \u001b[1;32mc:\\Users\\zbe17\\Desktop\\AiCore_Projects\\MRDC_Public\\database_utils.py:6\u001b[1;36m\n\u001b[1;33m    from data_cleaning import DataCleaning\u001b[1;36m\n",
      "\u001b[1;36m  File \u001b[1;32mc:\\Users\\zbe17\\Desktop\\AiCore_Projects\\MRDC_Public\\data_cleaning.py:106\u001b[1;36m\u001b[0m\n\u001b[1;33m    \u001b[0m\n\u001b[1;37m    ^\u001b[0m\n\u001b[1;31mIndentationError\u001b[0m\u001b[1;31m:\u001b[0m expected an indented block after function definition on line 104\n"
     ]
    }
   ],
   "source": [
    "import pandas as pd\n",
    "import requests\n",
    "\n",
    "\n",
    "from database_utils import DatabaseConnector \n",
    "from database_utils import DataExtractor\n",
    "from database_utils import DataCleaning\n",
    "\n",
    "database_connector = DatabaseConnector()\n",
    "data_extractor = DataExtractor()\n",
    "data_cleaning = DataCleaning()\n",
    "\n",
    "\n",
    "if __name__ == \"__main__\":\n",
    "    db_ex = DataExtractor()\n",
    "    print(db_ex.list_number_of_stores(\"https://aqj7u5id95.execute-api.eu-west-1.amazonaws.com/prod/number_stores\", {'x-api-key': 'yFBQbwXe9J3sd6zWVAMrK6lcxxr0q1lr2PT6DDMX'} ))\n",
    "df = db_ex.retrieves_store_data(\"https://aqj7u5id95.execute-api.eu-west-1.amazonaws.com/prod/number_stores\", \"https://aqj7u5id95.execute-api.eu-west-1.amazonaws.com/prod/store_details\" , {'x-api-key': 'yFBQbwXe9J3sd6zWVAMrK6lcxxr0q1lr2PT6DDMX'})\n",
    "df\n",
    "\n"
   ]
  },
  {
   "cell_type": "code",
   "execution_count": 39,
   "metadata": {},
   "outputs": [
    {
     "name": "stdout",
     "output_type": "stream",
     "text": [
      "<class 'pandas.core.frame.DataFrame'>\n",
      "RangeIndex: 451 entries, 0 to 450\n",
      "Data columns (total 11 columns):\n",
      " #   Column         Non-Null Count  Dtype \n",
      "---  ------         --------------  ----- \n",
      " 0   address        451 non-null    object\n",
      " 1   longitude      451 non-null    object\n",
      " 2   lat            11 non-null     object\n",
      " 3   locality       451 non-null    object\n",
      " 4   store_code     451 non-null    object\n",
      " 5   staff_numbers  451 non-null    object\n",
      " 6   opening_date   451 non-null    object\n",
      " 7   store_type     451 non-null    object\n",
      " 8   latitude       450 non-null    object\n",
      " 9   country_code   451 non-null    object\n",
      " 10  continent      451 non-null    object\n",
      "dtypes: object(11)\n",
      "memory usage: 38.9+ KB\n"
     ]
    }
   ],
   "source": [
    "df.info()"
   ]
  },
  {
   "cell_type": "code",
   "execution_count": 48,
   "metadata": {},
   "outputs": [
    {
     "ename": "AttributeError",
     "evalue": "'NoneType' object has no attribute 'duplicated'",
     "output_type": "error",
     "traceback": [
      "\u001b[1;31m---------------------------------------------------------------------------\u001b[0m",
      "\u001b[1;31mAttributeError\u001b[0m                            Traceback (most recent call last)",
      "Cell \u001b[1;32mIn[48], line 1\u001b[0m\n\u001b[1;32m----> 1\u001b[0m df\u001b[39m.\u001b[39;49mduplicated()\u001b[39m.\u001b[39msum()\n",
      "\u001b[1;31mAttributeError\u001b[0m: 'NoneType' object has no attribute 'duplicated'"
     ]
    }
   ],
   "source": [
    "df.duplicated().sum()"
   ]
  },
  {
   "cell_type": "code",
   "execution_count": 41,
   "metadata": {},
   "outputs": [],
   "source": [
    "df['address'].describe()\n",
    "df['address'] = df['address'].astype('string')"
   ]
  },
  {
   "cell_type": "code",
   "execution_count": 55,
   "metadata": {},
   "outputs": [
    {
     "data": {
      "text/plain": [
       "0              GB\n",
       "1              GB\n",
       "2              DE\n",
       "3              GB\n",
       "4              GB\n",
       "          ...    \n",
       "446            DE\n",
       "447    B3EH2ZGQAV\n",
       "448            GB\n",
       "449            DE\n",
       "450            DE\n",
       "Name: country_code, Length: 451, dtype: object"
      ]
     },
     "execution_count": 55,
     "metadata": {},
     "output_type": "execute_result"
    }
   ],
   "source": [
    "df['country_code'].describe()\n",
    "df['country_code']\n",
    "\n"
   ]
  }
 ],
 "metadata": {
  "kernelspec": {
   "display_name": "dc_env",
   "language": "python",
   "name": "python3"
  },
  "language_info": {
   "codemirror_mode": {
    "name": "ipython",
    "version": 3
   },
   "file_extension": ".py",
   "mimetype": "text/x-python",
   "name": "python",
   "nbconvert_exporter": "python",
   "pygments_lexer": "ipython3",
   "version": "3.11.2"
  },
  "orig_nbformat": 4
 },
 "nbformat": 4,
 "nbformat_minor": 2
}
