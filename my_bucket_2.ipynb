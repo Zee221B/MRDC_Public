{
 "cells": [
  {
   "cell_type": "code",
   "execution_count": null,
   "metadata": {},
   "outputs": [],
   "source": [
    "# Things to do:\n",
    "# Find duplicates - DONE\n",
    "# Find null values - \n",
    "# Correct rows filled with wrong information - DONE\n",
    "# drop any columns or rows that are missing values - DONE\n",
    "# convert to correct datatypes - DONE"
   ]
  },
  {
   "cell_type": "code",
   "execution_count": 1,
   "metadata": {},
   "outputs": [
    {
     "name": "stdout",
     "output_type": "stream",
     "text": [
      "       timestamp month  year day time_period   \n",
      "0       22:00:06     9  2012  19     Evening  \\\n",
      "1       22:44:06     2  1997  10     Evening   \n",
      "2       10:05:37     4  1994  15     Morning   \n",
      "3       17:29:27    11  2001   6      Midday   \n",
      "4       22:40:33    12  2015  31     Evening   \n",
      "...          ...   ...   ...  ..         ...   \n",
      "120156  22:56:56    11  2022  12     Evening   \n",
      "120157  18:25:20     5  1997  31     Evening   \n",
      "120158  18:21:40     9  2011  13     Evening   \n",
      "120159  19:10:53     7  2013  12     Evening   \n",
      "120160  21:17:12     3  2008  18     Evening   \n",
      "\n",
      "                                   date_uuid  \n",
      "0       3b7ca996-37f9-433f-b6d0-ce8391b615ad  \n",
      "1       adc86836-6c35-49ca-bb0d-65b6507a00fa  \n",
      "2       5ff791bf-d8e0-4f86-8ceb-c7b60bef9b31  \n",
      "3       1b01fcef-5ab9-404c-b0d4-1e75a0bd19d8  \n",
      "4       dfa907c1-f6c5-40f0-aa0d-40ed77ac5a44  \n",
      "...                                      ...  \n",
      "120156  d6c4fb31-720d-4e94-aa6b-dcbcb85f2bb7  \n",
      "120157  f7722027-1aae-49c3-8f8d-853e93f9f3e6  \n",
      "120158  4a3b9851-52e1-463c-ac81-1960f141444e  \n",
      "120159  64974909-0d4b-42a2-822a-73b5695e8bfb  \n",
      "120160  55c228c7-14ee-4d46-99a9-01dfc57d1adf  \n",
      "\n",
      "[120161 rows x 6 columns]\n"
     ]
    }
   ],
   "source": [
    "import pandas as pd\n",
    "import requests\n",
    "import boto3\n",
    "\n",
    "\n",
    "from database_utils import DatabaseConnector \n",
    "from database_utils import DataExtractor\n",
    "from database_utils import DataCleaning\n",
    "\n",
    "database_connector = DatabaseConnector()\n",
    "data_extractor = DataExtractor()\n",
    "data_cleaning = DataCleaning()\n",
    "\n",
    "data_extractor = DataExtractor()\n",
    "my_bucket_2 = data_extractor.extract_from_s3_2('s3://myaicorebucket/date_details.json')\n",
    "print(my_bucket_2)\n",
    "\n"
   ]
  },
  {
   "cell_type": "code",
   "execution_count": 6,
   "metadata": {},
   "outputs": [],
   "source": [
    "my_bucket_2.to_string('my_bucket_2.txt')"
   ]
  },
  {
   "cell_type": "code",
   "execution_count": 4,
   "metadata": {},
   "outputs": [
    {
     "name": "stdout",
     "output_type": "stream",
     "text": [
      "<class 'pandas.core.frame.DataFrame'>\n",
      "Index: 120161 entries, 0 to 120160\n",
      "Data columns (total 6 columns):\n",
      " #   Column       Non-Null Count   Dtype         \n",
      "---  ------       --------------   -----         \n",
      " 0   timestamp    120123 non-null  datetime64[ns]\n",
      " 1   month        120161 non-null  object        \n",
      " 2   year         120161 non-null  object        \n",
      " 3   day          120161 non-null  object        \n",
      " 4   time_period  120161 non-null  object        \n",
      " 5   date_uuid    120161 non-null  object        \n",
      "dtypes: datetime64[ns](1), object(5)\n",
      "memory usage: 6.4+ MB\n"
     ]
    }
   ],
   "source": [
    "my_bucket_2.info()"
   ]
  },
  {
   "cell_type": "code",
   "execution_count": 11,
   "metadata": {},
   "outputs": [],
   "source": [
    "my_bucket_2[\"timestamp\"]\n",
    "my_bucket_2[\"timestamp\"] = pd.to_datetime(my_bucket_2[\"timestamp\"], errors='coerce')"
   ]
  },
  {
   "cell_type": "code",
   "execution_count": 9,
   "metadata": {},
   "outputs": [],
   "source": [
    "my_bucket_2[\"month\"]\n",
    "my_bucket_2[\"month\"] = pd.to_datetime(my_bucket_2[\"month\"], errors='coerce')"
   ]
  },
  {
   "cell_type": "code",
   "execution_count": 10,
   "metadata": {},
   "outputs": [],
   "source": [
    "my_bucket_2[\"year\"]\n",
    "my_bucket_2[\"year\"] = pd.to_datetime(my_bucket_2[\"year\"], errors='coerce')"
   ]
  },
  {
   "cell_type": "code",
   "execution_count": 7,
   "metadata": {},
   "outputs": [
    {
     "data": {
      "text/plain": [
       "0         19\n",
       "1         10\n",
       "2         15\n",
       "3          6\n",
       "4         31\n",
       "          ..\n",
       "120118    12\n",
       "120119    31\n",
       "120120    13\n",
       "120121    12\n",
       "120122    18\n",
       "Name: day, Length: 120123, dtype: int64"
      ]
     },
     "execution_count": 7,
     "metadata": {},
     "output_type": "execute_result"
    }
   ],
   "source": [
    "my_bucket_2['day'] = my_bucket_2['day'].astype('int64')\n",
    "my_bucket_2['day'] "
   ]
  },
  {
   "cell_type": "code",
   "execution_count": 22,
   "metadata": {},
   "outputs": [
    {
     "data": {
      "text/plain": [
       "0         Evening\n",
       "1         Evening\n",
       "2         Morning\n",
       "3          Midday\n",
       "4         Evening\n",
       "           ...   \n",
       "120156    Evening\n",
       "120157    Evening\n",
       "120158    Evening\n",
       "120159    Evening\n",
       "120160    Evening\n",
       "Name: time_period, Length: 120161, dtype: category\n",
       "Categories (28, object): ['1JCRGU3GIE', '1PZDMCME1C', '1Z18F4RM05', '5MUU1NKRED', ..., 'SQX52VSNMM', 'SSF9ANE440', 'SYID3PBQLP', 'YRYN6Y8SPJ']"
      ]
     },
     "execution_count": 22,
     "metadata": {},
     "output_type": "execute_result"
    }
   ],
   "source": [
    "my_bucket_2['time_period'] = my_bucket_2['time_period'].astype('category')\n",
    "my_bucket_2['time_period'] "
   ]
  },
  {
   "cell_type": "code",
   "execution_count": 14,
   "metadata": {},
   "outputs": [
    {
     "ename": "TypeError",
     "evalue": "list indices must be integers or slices, not str",
     "output_type": "error",
     "traceback": [
      "\u001b[1;31m---------------------------------------------------------------------------\u001b[0m",
      "\u001b[1;31mTypeError\u001b[0m                                 Traceback (most recent call last)",
      "Cell \u001b[1;32mIn[14], line 1\u001b[0m\n\u001b[1;32m----> 1\u001b[0m my_bucket_2[\u001b[39m'\u001b[39;49m\u001b[39mtime_period\u001b[39;49m\u001b[39m'\u001b[39;49m]\u001b[39m.\u001b[39mvalue_counts()\n\u001b[0;32m      2\u001b[0m my_bucket_2 \u001b[39m=\u001b[39m [\u001b[39m\"\u001b[39m\u001b[39mMorning\u001b[39m\u001b[39m\"\u001b[39m, \u001b[39m\"\u001b[39m\u001b[39mEvening\u001b[39m\u001b[39m\"\u001b[39m, \u001b[39m\"\u001b[39m\u001b[39mMidday\u001b[39m\u001b[39m\"\u001b[39m, \u001b[39m\"\u001b[39m\u001b[39mLate_Hours\u001b[39m\u001b[39m\"\u001b[39m]\n\u001b[0;32m      3\u001b[0m \u001b[39mprint\u001b[39m(my_bucket_2)\n",
      "\u001b[1;31mTypeError\u001b[0m: list indices must be integers or slices, not str"
     ]
    }
   ],
   "source": [
    "my_bucket_2['time_period'].value_counts()\n",
    "my_bucket_2 = [\"Morning\", \"Evening\", \"Midday\", \"Late_Hours\"]\n",
    "print(my_bucket_2)"
   ]
  },
  {
   "cell_type": "code",
   "execution_count": 23,
   "metadata": {},
   "outputs": [
    {
     "data": {
      "text/plain": [
       "0         3b7ca996-37f9-433f-b6d0-ce8391b615ad\n",
       "1         adc86836-6c35-49ca-bb0d-65b6507a00fa\n",
       "2         5ff791bf-d8e0-4f86-8ceb-c7b60bef9b31\n",
       "3         1b01fcef-5ab9-404c-b0d4-1e75a0bd19d8\n",
       "4         dfa907c1-f6c5-40f0-aa0d-40ed77ac5a44\n",
       "                          ...                 \n",
       "120156    d6c4fb31-720d-4e94-aa6b-dcbcb85f2bb7\n",
       "120157    f7722027-1aae-49c3-8f8d-853e93f9f3e6\n",
       "120158    4a3b9851-52e1-463c-ac81-1960f141444e\n",
       "120159    64974909-0d4b-42a2-822a-73b5695e8bfb\n",
       "120160    55c228c7-14ee-4d46-99a9-01dfc57d1adf\n",
       "Name: date_uuid, Length: 120161, dtype: string"
      ]
     },
     "execution_count": 23,
     "metadata": {},
     "output_type": "execute_result"
    }
   ],
   "source": [
    "my_bucket_2['date_uuid'] = my_bucket_2['date_uuid'].astype('string')\n",
    "my_bucket_2['date_uuid']"
   ]
  },
  {
   "cell_type": "code",
   "execution_count": 24,
   "metadata": {},
   "outputs": [
    {
     "data": {
      "text/plain": [
       "0         False\n",
       "1         False\n",
       "2         False\n",
       "3         False\n",
       "4         False\n",
       "          ...  \n",
       "120156    False\n",
       "120157    False\n",
       "120158    False\n",
       "120159    False\n",
       "120160    False\n",
       "Length: 120161, dtype: bool"
      ]
     },
     "execution_count": 24,
     "metadata": {},
     "output_type": "execute_result"
    }
   ],
   "source": [
    "my_bucket_2.duplicated().sum()\n",
    "my_bucket_2.duplicated(keep='first')"
   ]
  },
  {
   "cell_type": "code",
   "execution_count": 5,
   "metadata": {},
   "outputs": [],
   "source": [
    "my_bucket_2.dropna(inplace=True)\n",
    "my_bucket_2 = my_bucket_2.reset_index(drop=True)"
   ]
  }
 ],
 "metadata": {
  "kernelspec": {
   "display_name": "dc_env",
   "language": "python",
   "name": "python3"
  },
  "language_info": {
   "codemirror_mode": {
    "name": "ipython",
    "version": 3
   },
   "file_extension": ".py",
   "mimetype": "text/x-python",
   "name": "python",
   "nbconvert_exporter": "python",
   "pygments_lexer": "ipython3",
   "version": "3.11.2"
  },
  "orig_nbformat": 4
 },
 "nbformat": 4,
 "nbformat_minor": 2
}
