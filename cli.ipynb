{
 "cells": [
  {
   "cell_type": "code",
   "execution_count": 2,
   "metadata": {},
   "outputs": [
    {
     "name": "stdout",
     "output_type": "stream",
     "text": [
      "      Unnamed: 0                                 product_name product_price   \n",
      "0              0  FurReal Dazzlin' Dimples My Playful Dolphin        £39.99  \\\n",
      "1              1          Tiffany's World Day Out At The Park        £12.99   \n",
      "2              2          Tiffany's World Pups Picnic Playset         £7.00   \n",
      "3              3     Tiffany's World Wildlife Park Adventures        £12.99   \n",
      "4              4                      Cosatto Cosy Dolls Pram        £30.00   \n",
      "...          ...                                          ...           ...   \n",
      "1848        1848    Goodmans Qi Autosense In Car Phone Holder        £15.00   \n",
      "1849        1849    Goodmans Qi Wireless Charging Phone Stand        £15.00   \n",
      "1850        1850                     RAC 12V Wet & Dry Vacuum        £18.00   \n",
      "1851        1851    Goodmans Qi Autosense In Car Phone Holder        £15.00   \n",
      "1852        1852               Beldray Telescopic Ladder 2.9m        £69.00   \n",
      "\n",
      "      weight        category            EAN  date_added   \n",
      "0      1.6kg  toys-and-games  7425710935115  2005-12-02  \\\n",
      "1     0.48kg  toys-and-games   487128731892  2006-01-09   \n",
      "2       590g  toys-and-games  1945816904649  1997-03-29   \n",
      "3       540g  toys-and-games  1569790890899  2013-03-20   \n",
      "4     1.91kg  toys-and-games  7142740213920  2007-12-23   \n",
      "...      ...             ...            ...         ...   \n",
      "1848    125g             diy  8185827751600  2020-08-28   \n",
      "1849    134g             diy  9769724533935  2012-05-20   \n",
      "1850    820g             diy  3113855860327  1993-11-28   \n",
      "1851    125g             diy  9195087467400  2016-09-20   \n",
      "1852   9.4kg             diy  8518402353072  2006-10-07   \n",
      "\n",
      "                                      uuid          removed product_code  \n",
      "0     83dc0a69-f96f-4c34-bcb7-928acae19a94  Still_avaliable  R7-3126933h  \n",
      "1     712254d7-aea7-4310-aff8-8bcdd0aec7ff  Still_avaliable  C2-7287916l  \n",
      "2     b089ef6f-b628-4e37-811d-fffe0102ba64  Still_avaliable  S7-1175877v  \n",
      "3     d55de422-8b98-47d6-9991-e4bc4c5c0cb0          Removed  D8-8421505n  \n",
      "4     7945b657-cb02-4cc5-96cf-f65ed0a8f235  Still_avaliable  B6-2596063a  \n",
      "...                                    ...              ...          ...  \n",
      "1848  3ff21cb1-8e90-499d-b5a0-6839fb83e70f  Still_avaliable  x4-2227164k  \n",
      "1849  a7910f74-c2b6-4144-98b7-30ca68f34d2d  Still_avaliable  i3-8338545Z  \n",
      "1850  66d3efa0-f480-4da9-893b-e8aaff53e27b  Still_avaliable  n4-1642658b  \n",
      "1851  efb472f1-8f00-448e-a874-9fa9812eeab5  Still_avaliable  A3-7619070S  \n",
      "1852  cfe701da-6493-4a7f-83cf-9aab1650f689  Still_avaliable  i6-2851854w  \n",
      "\n",
      "[1853 rows x 10 columns]\n"
     ]
    }
   ],
   "source": [
    "import pandas as pd\n",
    "import requests\n",
    "import boto3\n",
    "\n",
    "\n",
    "from database_utils import DatabaseConnector \n",
    "from database_utils import DataExtractor\n",
    "from database_utils import DataCleaning\n",
    "\n",
    "database_connector = DatabaseConnector()\n",
    "data_extractor = DataExtractor()\n",
    "data_cleaning = DataCleaning()\n",
    "\n",
    "data_extractor = DataExtractor()\n",
    "my_bucket = data_extractor.extract_from_s3('s3://data-handling-public/products.csv')\n",
    "print(my_bucket)\n"
   ]
  },
  {
   "cell_type": "code",
   "execution_count": 3,
   "metadata": {},
   "outputs": [
    {
     "data": {
      "text/html": [
       "<div>\n",
       "<style scoped>\n",
       "    .dataframe tbody tr th:only-of-type {\n",
       "        vertical-align: middle;\n",
       "    }\n",
       "\n",
       "    .dataframe tbody tr th {\n",
       "        vertical-align: top;\n",
       "    }\n",
       "\n",
       "    .dataframe thead th {\n",
       "        text-align: right;\n",
       "    }\n",
       "</style>\n",
       "<table border=\"1\" class=\"dataframe\">\n",
       "  <thead>\n",
       "    <tr style=\"text-align: right;\">\n",
       "      <th></th>\n",
       "      <th>Unnamed: 0</th>\n",
       "    </tr>\n",
       "  </thead>\n",
       "  <tbody>\n",
       "    <tr>\n",
       "      <th>count</th>\n",
       "      <td>1853.000000</td>\n",
       "    </tr>\n",
       "    <tr>\n",
       "      <th>mean</th>\n",
       "      <td>926.000000</td>\n",
       "    </tr>\n",
       "    <tr>\n",
       "      <th>std</th>\n",
       "      <td>535.059343</td>\n",
       "    </tr>\n",
       "    <tr>\n",
       "      <th>min</th>\n",
       "      <td>0.000000</td>\n",
       "    </tr>\n",
       "    <tr>\n",
       "      <th>25%</th>\n",
       "      <td>463.000000</td>\n",
       "    </tr>\n",
       "    <tr>\n",
       "      <th>50%</th>\n",
       "      <td>926.000000</td>\n",
       "    </tr>\n",
       "    <tr>\n",
       "      <th>75%</th>\n",
       "      <td>1389.000000</td>\n",
       "    </tr>\n",
       "    <tr>\n",
       "      <th>max</th>\n",
       "      <td>1852.000000</td>\n",
       "    </tr>\n",
       "  </tbody>\n",
       "</table>\n",
       "</div>"
      ],
      "text/plain": [
       "        Unnamed: 0\n",
       "count  1853.000000\n",
       "mean    926.000000\n",
       "std     535.059343\n",
       "min       0.000000\n",
       "25%     463.000000\n",
       "50%     926.000000\n",
       "75%    1389.000000\n",
       "max    1852.000000"
      ]
     },
     "execution_count": 3,
     "metadata": {},
     "output_type": "execute_result"
    }
   ],
   "source": [
    "my_bucket.describe()"
   ]
  },
  {
   "cell_type": "code",
   "execution_count": 12,
   "metadata": {},
   "outputs": [
    {
     "name": "stdout",
     "output_type": "stream",
     "text": [
      "<class 'pandas.core.frame.DataFrame'>\n",
      "RangeIndex: 1853 entries, 0 to 1852\n",
      "Data columns (total 10 columns):\n",
      " #   Column         Non-Null Count  Dtype \n",
      "---  ------         --------------  ----- \n",
      " 0   Unnamed: 0     1853 non-null   int64 \n",
      " 1   product_name   1849 non-null   object\n",
      " 2   product_price  1849 non-null   object\n",
      " 3   weight         1583 non-null   string\n",
      " 4   category       1849 non-null   object\n",
      " 5   EAN            1849 non-null   object\n",
      " 6   date_added     1849 non-null   object\n",
      " 7   uuid           1849 non-null   object\n",
      " 8   removed        1849 non-null   object\n",
      " 9   product_code   1849 non-null   object\n",
      "dtypes: int64(1), object(8), string(1)\n",
      "memory usage: 144.9+ KB\n"
     ]
    }
   ],
   "source": [
    "my_bucket.info()"
   ]
  },
  {
   "cell_type": "code",
   "execution_count": 18,
   "metadata": {},
   "outputs": [
    {
     "ename": "ValueError",
     "evalue": "could not convert string to float: '1.16kg'",
     "output_type": "error",
     "traceback": [
      "\u001b[1;31m---------------------------------------------------------------------------\u001b[0m",
      "\u001b[1;31mValueError\u001b[0m                                Traceback (most recent call last)",
      "Cell \u001b[1;32mIn[18], line 1\u001b[0m\n\u001b[1;32m----> 1\u001b[0m my_bucket[\u001b[39m'\u001b[39m\u001b[39mweight\u001b[39m\u001b[39m'\u001b[39m] \u001b[39m=\u001b[39m my_bucket[\u001b[39m'\u001b[39;49m\u001b[39mweight\u001b[39;49m\u001b[39m'\u001b[39;49m]\u001b[39m.\u001b[39;49mastype(\u001b[39m'\u001b[39;49m\u001b[39mfloat64\u001b[39;49m\u001b[39m'\u001b[39;49m)\n",
      "File \u001b[1;32mc:\\Users\\zbe17\\miniconda3\\envs\\dc_env\\Lib\\site-packages\\pandas\\core\\generic.py:6324\u001b[0m, in \u001b[0;36mNDFrame.astype\u001b[1;34m(self, dtype, copy, errors)\u001b[0m\n\u001b[0;32m   6317\u001b[0m     results \u001b[39m=\u001b[39m [\n\u001b[0;32m   6318\u001b[0m         \u001b[39mself\u001b[39m\u001b[39m.\u001b[39miloc[:, i]\u001b[39m.\u001b[39mastype(dtype, copy\u001b[39m=\u001b[39mcopy)\n\u001b[0;32m   6319\u001b[0m         \u001b[39mfor\u001b[39;00m i \u001b[39min\u001b[39;00m \u001b[39mrange\u001b[39m(\u001b[39mlen\u001b[39m(\u001b[39mself\u001b[39m\u001b[39m.\u001b[39mcolumns))\n\u001b[0;32m   6320\u001b[0m     ]\n\u001b[0;32m   6322\u001b[0m \u001b[39melse\u001b[39;00m:\n\u001b[0;32m   6323\u001b[0m     \u001b[39m# else, only a single dtype is given\u001b[39;00m\n\u001b[1;32m-> 6324\u001b[0m     new_data \u001b[39m=\u001b[39m \u001b[39mself\u001b[39;49m\u001b[39m.\u001b[39;49m_mgr\u001b[39m.\u001b[39;49mastype(dtype\u001b[39m=\u001b[39;49mdtype, copy\u001b[39m=\u001b[39;49mcopy, errors\u001b[39m=\u001b[39;49merrors)\n\u001b[0;32m   6325\u001b[0m     \u001b[39mreturn\u001b[39;00m \u001b[39mself\u001b[39m\u001b[39m.\u001b[39m_constructor(new_data)\u001b[39m.\u001b[39m__finalize__(\u001b[39mself\u001b[39m, method\u001b[39m=\u001b[39m\u001b[39m\"\u001b[39m\u001b[39mastype\u001b[39m\u001b[39m\"\u001b[39m)\n\u001b[0;32m   6327\u001b[0m \u001b[39m# GH 33113: handle empty frame or series\u001b[39;00m\n",
      "File \u001b[1;32mc:\\Users\\zbe17\\miniconda3\\envs\\dc_env\\Lib\\site-packages\\pandas\\core\\internals\\managers.py:451\u001b[0m, in \u001b[0;36mBaseBlockManager.astype\u001b[1;34m(self, dtype, copy, errors)\u001b[0m\n\u001b[0;32m    448\u001b[0m \u001b[39melif\u001b[39;00m using_copy_on_write():\n\u001b[0;32m    449\u001b[0m     copy \u001b[39m=\u001b[39m \u001b[39mFalse\u001b[39;00m\n\u001b[1;32m--> 451\u001b[0m \u001b[39mreturn\u001b[39;00m \u001b[39mself\u001b[39;49m\u001b[39m.\u001b[39;49mapply(\n\u001b[0;32m    452\u001b[0m     \u001b[39m\"\u001b[39;49m\u001b[39mastype\u001b[39;49m\u001b[39m\"\u001b[39;49m,\n\u001b[0;32m    453\u001b[0m     dtype\u001b[39m=\u001b[39;49mdtype,\n\u001b[0;32m    454\u001b[0m     copy\u001b[39m=\u001b[39;49mcopy,\n\u001b[0;32m    455\u001b[0m     errors\u001b[39m=\u001b[39;49merrors,\n\u001b[0;32m    456\u001b[0m     using_cow\u001b[39m=\u001b[39;49musing_copy_on_write(),\n\u001b[0;32m    457\u001b[0m )\n",
      "File \u001b[1;32mc:\\Users\\zbe17\\miniconda3\\envs\\dc_env\\Lib\\site-packages\\pandas\\core\\internals\\managers.py:352\u001b[0m, in \u001b[0;36mBaseBlockManager.apply\u001b[1;34m(self, f, align_keys, **kwargs)\u001b[0m\n\u001b[0;32m    350\u001b[0m         applied \u001b[39m=\u001b[39m b\u001b[39m.\u001b[39mapply(f, \u001b[39m*\u001b[39m\u001b[39m*\u001b[39mkwargs)\n\u001b[0;32m    351\u001b[0m     \u001b[39melse\u001b[39;00m:\n\u001b[1;32m--> 352\u001b[0m         applied \u001b[39m=\u001b[39m \u001b[39mgetattr\u001b[39;49m(b, f)(\u001b[39m*\u001b[39;49m\u001b[39m*\u001b[39;49mkwargs)\n\u001b[0;32m    353\u001b[0m     result_blocks \u001b[39m=\u001b[39m extend_blocks(applied, result_blocks)\n\u001b[0;32m    355\u001b[0m out \u001b[39m=\u001b[39m \u001b[39mtype\u001b[39m(\u001b[39mself\u001b[39m)\u001b[39m.\u001b[39mfrom_blocks(result_blocks, \u001b[39mself\u001b[39m\u001b[39m.\u001b[39maxes)\n",
      "File \u001b[1;32mc:\\Users\\zbe17\\miniconda3\\envs\\dc_env\\Lib\\site-packages\\pandas\\core\\internals\\blocks.py:511\u001b[0m, in \u001b[0;36mBlock.astype\u001b[1;34m(self, dtype, copy, errors, using_cow)\u001b[0m\n\u001b[0;32m    491\u001b[0m \u001b[39m\u001b[39m\u001b[39m\"\"\"\u001b[39;00m\n\u001b[0;32m    492\u001b[0m \u001b[39mCoerce to the new dtype.\u001b[39;00m\n\u001b[0;32m    493\u001b[0m \n\u001b[1;32m   (...)\u001b[0m\n\u001b[0;32m    507\u001b[0m \u001b[39mBlock\u001b[39;00m\n\u001b[0;32m    508\u001b[0m \u001b[39m\"\"\"\u001b[39;00m\n\u001b[0;32m    509\u001b[0m values \u001b[39m=\u001b[39m \u001b[39mself\u001b[39m\u001b[39m.\u001b[39mvalues\n\u001b[1;32m--> 511\u001b[0m new_values \u001b[39m=\u001b[39m astype_array_safe(values, dtype, copy\u001b[39m=\u001b[39;49mcopy, errors\u001b[39m=\u001b[39;49merrors)\n\u001b[0;32m    513\u001b[0m new_values \u001b[39m=\u001b[39m maybe_coerce_values(new_values)\n\u001b[0;32m    515\u001b[0m refs \u001b[39m=\u001b[39m \u001b[39mNone\u001b[39;00m\n",
      "File \u001b[1;32mc:\\Users\\zbe17\\miniconda3\\envs\\dc_env\\Lib\\site-packages\\pandas\\core\\dtypes\\astype.py:242\u001b[0m, in \u001b[0;36mastype_array_safe\u001b[1;34m(values, dtype, copy, errors)\u001b[0m\n\u001b[0;32m    239\u001b[0m     dtype \u001b[39m=\u001b[39m dtype\u001b[39m.\u001b[39mnumpy_dtype\n\u001b[0;32m    241\u001b[0m \u001b[39mtry\u001b[39;00m:\n\u001b[1;32m--> 242\u001b[0m     new_values \u001b[39m=\u001b[39m astype_array(values, dtype, copy\u001b[39m=\u001b[39;49mcopy)\n\u001b[0;32m    243\u001b[0m \u001b[39mexcept\u001b[39;00m (\u001b[39mValueError\u001b[39;00m, \u001b[39mTypeError\u001b[39;00m):\n\u001b[0;32m    244\u001b[0m     \u001b[39m# e.g. _astype_nansafe can fail on object-dtype of strings\u001b[39;00m\n\u001b[0;32m    245\u001b[0m     \u001b[39m#  trying to convert to float\u001b[39;00m\n\u001b[0;32m    246\u001b[0m     \u001b[39mif\u001b[39;00m errors \u001b[39m==\u001b[39m \u001b[39m\"\u001b[39m\u001b[39mignore\u001b[39m\u001b[39m\"\u001b[39m:\n",
      "File \u001b[1;32mc:\\Users\\zbe17\\miniconda3\\envs\\dc_env\\Lib\\site-packages\\pandas\\core\\dtypes\\astype.py:184\u001b[0m, in \u001b[0;36mastype_array\u001b[1;34m(values, dtype, copy)\u001b[0m\n\u001b[0;32m    180\u001b[0m     \u001b[39mreturn\u001b[39;00m values\n\u001b[0;32m    182\u001b[0m \u001b[39mif\u001b[39;00m \u001b[39mnot\u001b[39;00m \u001b[39misinstance\u001b[39m(values, np\u001b[39m.\u001b[39mndarray):\n\u001b[0;32m    183\u001b[0m     \u001b[39m# i.e. ExtensionArray\u001b[39;00m\n\u001b[1;32m--> 184\u001b[0m     values \u001b[39m=\u001b[39m values\u001b[39m.\u001b[39;49mastype(dtype, copy\u001b[39m=\u001b[39;49mcopy)\n\u001b[0;32m    186\u001b[0m \u001b[39melse\u001b[39;00m:\n\u001b[0;32m    187\u001b[0m     values \u001b[39m=\u001b[39m _astype_nansafe(values, dtype, copy\u001b[39m=\u001b[39mcopy)\n",
      "File \u001b[1;32mc:\\Users\\zbe17\\miniconda3\\envs\\dc_env\\Lib\\site-packages\\pandas\\core\\arrays\\string_.py:464\u001b[0m, in \u001b[0;36mStringArray.astype\u001b[1;34m(self, dtype, copy)\u001b[0m\n\u001b[0;32m    462\u001b[0m mask \u001b[39m=\u001b[39m \u001b[39mself\u001b[39m\u001b[39m.\u001b[39misna()\n\u001b[0;32m    463\u001b[0m arr[mask] \u001b[39m=\u001b[39m \u001b[39m0\u001b[39m\n\u001b[1;32m--> 464\u001b[0m values \u001b[39m=\u001b[39m arr\u001b[39m.\u001b[39;49mastype(dtype)\n\u001b[0;32m    465\u001b[0m values[mask] \u001b[39m=\u001b[39m np\u001b[39m.\u001b[39mnan\n\u001b[0;32m    466\u001b[0m \u001b[39mreturn\u001b[39;00m values\n",
      "\u001b[1;31mValueError\u001b[0m: could not convert string to float: '1.16kg'"
     ]
    }
   ],
   "source": [
    "my_bucket['weight'] = my_bucket['weight'].astype('float64')"
   ]
  },
  {
   "cell_type": "code",
   "execution_count": 19,
   "metadata": {},
   "outputs": [
    {
     "ename": "TypeError",
     "evalue": "expected string or bytes-like object, got 'NAType'",
     "output_type": "error",
     "traceback": [
      "\u001b[1;31m---------------------------------------------------------------------------\u001b[0m",
      "\u001b[1;31mTypeError\u001b[0m                                 Traceback (most recent call last)",
      "Cell \u001b[1;32mIn[19], line 23\u001b[0m\n\u001b[0;32m     21\u001b[0m \u001b[39m# Convert each weight value to a decimal value in kg\u001b[39;00m\n\u001b[0;32m     22\u001b[0m \u001b[39mfor\u001b[39;00m i, weight \u001b[39min\u001b[39;00m \u001b[39menumerate\u001b[39m(my_bucket[\u001b[39m'\u001b[39m\u001b[39mweight\u001b[39m\u001b[39m'\u001b[39m]):\n\u001b[1;32m---> 23\u001b[0m     match \u001b[39m=\u001b[39m re\u001b[39m.\u001b[39;49mmatch(weight_pattern, weight)\n\u001b[0;32m     24\u001b[0m     \u001b[39mif\u001b[39;00m match:\n\u001b[0;32m     25\u001b[0m         value, unit \u001b[39m=\u001b[39m match\u001b[39m.\u001b[39mgroups()\n",
      "File \u001b[1;32mc:\\Users\\zbe17\\miniconda3\\envs\\dc_env\\Lib\\re\\__init__.py:166\u001b[0m, in \u001b[0;36mmatch\u001b[1;34m(pattern, string, flags)\u001b[0m\n\u001b[0;32m    163\u001b[0m \u001b[39mdef\u001b[39;00m \u001b[39mmatch\u001b[39m(pattern, string, flags\u001b[39m=\u001b[39m\u001b[39m0\u001b[39m):\n\u001b[0;32m    164\u001b[0m \u001b[39m    \u001b[39m\u001b[39m\"\"\"Try to apply the pattern at the start of the string, returning\u001b[39;00m\n\u001b[0;32m    165\u001b[0m \u001b[39m    a Match object, or None if no match was found.\"\"\"\u001b[39;00m\n\u001b[1;32m--> 166\u001b[0m     \u001b[39mreturn\u001b[39;00m _compile(pattern, flags)\u001b[39m.\u001b[39;49mmatch(string)\n",
      "\u001b[1;31mTypeError\u001b[0m: expected string or bytes-like object, got 'NAType'"
     ]
    }
   ],
   "source": [
    "  \n",
    "import re \n",
    "# Define a regular expression pattern to match weight values\n",
    "weight_pattern = r'^([\\d\\.]+)\\s*(kg|g|ml|l|oz|lb)$'\n",
    "        \n",
    "# Define a conversion factor for ml to g\n",
    "ml_to_g_factor = 1\n",
    "     \n",
    "# Define a dictionary mapping weight units to conversion factors\n",
    "conversion_factors = {\n",
    "            'kg': 1,\n",
    "            'g': 0.001,\n",
    "            'ml': ml_to_g_factor,\n",
    "            'l': 1000,\n",
    "            'oz': 0.0283495,\n",
    "            'lb': 0.453592\n",
    "        }\n",
    "        \n",
    "# Clean up the weight column by removing excess characters\n",
    "my_bucket['weight'] = my_bucket['weight'].str.replace('[^0-9\\.kgml]', 'kg', regex=True)\n",
    "        \n",
    "# Convert each weight value to a decimal value in kg\n",
    "for i, weight in enumerate(my_bucket['weight']):\n",
    "    match = re.match(weight_pattern, weight)\n",
    "    if match:\n",
    "        value, unit = match.groups()\n",
    "        factor = conversion_factors[unit]\n",
    "        my_bucket.at[i, 'weight'] = float(value) * factor\n",
    "    else:\n",
    "        my_bucket.at[i, 'weight'] = None\n",
    "        \n",
    "        \n",
    "     "
   ]
  }
 ],
 "metadata": {
  "kernelspec": {
   "display_name": "dc_env",
   "language": "python",
   "name": "python3"
  },
  "language_info": {
   "codemirror_mode": {
    "name": "ipython",
    "version": 3
   },
   "file_extension": ".py",
   "mimetype": "text/x-python",
   "name": "python",
   "nbconvert_exporter": "python",
   "pygments_lexer": "ipython3",
   "version": "3.11.2"
  },
  "orig_nbformat": 4
 },
 "nbformat": 4,
 "nbformat_minor": 2
}
