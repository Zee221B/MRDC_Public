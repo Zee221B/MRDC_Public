{
 "cells": [
  {
   "cell_type": "code",
   "execution_count": 1,
   "metadata": {},
   "outputs": [
    {
     "ename": "ParamValidationError",
     "evalue": "Parameter validation failed:\nInvalid bucket name \"https:\": Bucket name must match the regex \"^[a-zA-Z0-9.\\-_]{1,255}$\" or be an ARN matching the regex \"^arn:(aws).*:(s3|s3-object-lambda):[a-z\\-0-9]*:[0-9]{12}:accesspoint[/:][a-zA-Z0-9\\-.]{1,63}$|^arn:(aws).*:s3-outposts:[a-z\\-0-9]+:[0-9]{12}:outpost[/:][a-zA-Z0-9\\-]{1,63}[/:]accesspoint[/:][a-zA-Z0-9\\-]{1,63}$\"",
     "output_type": "error",
     "traceback": [
      "\u001b[1;31m---------------------------------------------------------------------------\u001b[0m",
      "\u001b[1;31mParamValidationError\u001b[0m                      Traceback (most recent call last)",
      "Cell \u001b[1;32mIn[1], line 16\u001b[0m\n\u001b[0;32m     12\u001b[0m data_cleaning \u001b[39m=\u001b[39m DataCleaning()\n\u001b[0;32m     14\u001b[0m data_extractor \u001b[39m=\u001b[39m DataExtractor()\n\u001b[1;32m---> 16\u001b[0m data \u001b[39m=\u001b[39m data_extractor\u001b[39m.\u001b[39;49mextract_from_s3(\u001b[39m'\u001b[39;49m\u001b[39mhttps://data-handling-public.s3.eu-west-1.amazonaws.com/date_details.json\u001b[39;49m\u001b[39m'\u001b[39;49m)\n\u001b[0;32m     17\u001b[0m \u001b[39mprint\u001b[39m(data)\n",
      "File \u001b[1;32mc:\\Users\\zbe17\\Desktop\\AiCore_Projects\\MRDC_Public\\data_extraction.py:73\u001b[0m, in \u001b[0;36mDataExtractor.extract_from_s3\u001b[1;34m(self, s3_address)\u001b[0m\n\u001b[0;32m     70\u001b[0m s3 \u001b[39m=\u001b[39m boto3\u001b[39m.\u001b[39mclient(\u001b[39m'\u001b[39m\u001b[39ms3\u001b[39m\u001b[39m'\u001b[39m)\n\u001b[0;32m     72\u001b[0m \u001b[39m# Download the file from S3\u001b[39;00m\n\u001b[1;32m---> 73\u001b[0m response \u001b[39m=\u001b[39m s3\u001b[39m.\u001b[39;49mget_object(Bucket\u001b[39m=\u001b[39;49mbucket, Key\u001b[39m=\u001b[39;49mkey)\n\u001b[0;32m     74\u001b[0m body \u001b[39m=\u001b[39m response[\u001b[39m'\u001b[39m\u001b[39mBody\u001b[39m\u001b[39m'\u001b[39m]\n\u001b[0;32m     76\u001b[0m \u001b[39m# Read the contents of the file into a pandas DataFrame\u001b[39;00m\n",
      "File \u001b[1;32mc:\\Users\\zbe17\\miniconda3\\envs\\dc_env\\Lib\\site-packages\\botocore\\client.py:530\u001b[0m, in \u001b[0;36mClientCreator._create_api_method.<locals>._api_call\u001b[1;34m(self, *args, **kwargs)\u001b[0m\n\u001b[0;32m    526\u001b[0m     \u001b[39mraise\u001b[39;00m \u001b[39mTypeError\u001b[39;00m(\n\u001b[0;32m    527\u001b[0m         \u001b[39mf\u001b[39m\u001b[39m\"\u001b[39m\u001b[39m{\u001b[39;00mpy_operation_name\u001b[39m}\u001b[39;00m\u001b[39m() only accepts keyword arguments.\u001b[39m\u001b[39m\"\u001b[39m\n\u001b[0;32m    528\u001b[0m     )\n\u001b[0;32m    529\u001b[0m \u001b[39m# The \"self\" in this scope is referring to the BaseClient.\u001b[39;00m\n\u001b[1;32m--> 530\u001b[0m \u001b[39mreturn\u001b[39;00m \u001b[39mself\u001b[39;49m\u001b[39m.\u001b[39;49m_make_api_call(operation_name, kwargs)\n",
      "File \u001b[1;32mc:\\Users\\zbe17\\miniconda3\\envs\\dc_env\\Lib\\site-packages\\botocore\\client.py:919\u001b[0m, in \u001b[0;36mBaseClient._make_api_call\u001b[1;34m(self, operation_name, api_params)\u001b[0m\n\u001b[0;32m    910\u001b[0m request_context \u001b[39m=\u001b[39m {\n\u001b[0;32m    911\u001b[0m     \u001b[39m'\u001b[39m\u001b[39mclient_region\u001b[39m\u001b[39m'\u001b[39m: \u001b[39mself\u001b[39m\u001b[39m.\u001b[39mmeta\u001b[39m.\u001b[39mregion_name,\n\u001b[0;32m    912\u001b[0m     \u001b[39m'\u001b[39m\u001b[39mclient_config\u001b[39m\u001b[39m'\u001b[39m: \u001b[39mself\u001b[39m\u001b[39m.\u001b[39mmeta\u001b[39m.\u001b[39mconfig,\n\u001b[0;32m    913\u001b[0m     \u001b[39m'\u001b[39m\u001b[39mhas_streaming_input\u001b[39m\u001b[39m'\u001b[39m: operation_model\u001b[39m.\u001b[39mhas_streaming_input,\n\u001b[0;32m    914\u001b[0m     \u001b[39m'\u001b[39m\u001b[39mauth_type\u001b[39m\u001b[39m'\u001b[39m: operation_model\u001b[39m.\u001b[39mauth_type,\n\u001b[0;32m    915\u001b[0m }\n\u001b[0;32m    916\u001b[0m endpoint_url, additional_headers \u001b[39m=\u001b[39m \u001b[39mself\u001b[39m\u001b[39m.\u001b[39m_resolve_endpoint_ruleset(\n\u001b[0;32m    917\u001b[0m     operation_model, api_params, request_context\n\u001b[0;32m    918\u001b[0m )\n\u001b[1;32m--> 919\u001b[0m request_dict \u001b[39m=\u001b[39m \u001b[39mself\u001b[39;49m\u001b[39m.\u001b[39;49m_convert_to_request_dict(\n\u001b[0;32m    920\u001b[0m     api_params\u001b[39m=\u001b[39;49mapi_params,\n\u001b[0;32m    921\u001b[0m     operation_model\u001b[39m=\u001b[39;49moperation_model,\n\u001b[0;32m    922\u001b[0m     endpoint_url\u001b[39m=\u001b[39;49mendpoint_url,\n\u001b[0;32m    923\u001b[0m     context\u001b[39m=\u001b[39;49mrequest_context,\n\u001b[0;32m    924\u001b[0m     headers\u001b[39m=\u001b[39;49madditional_headers,\n\u001b[0;32m    925\u001b[0m )\n\u001b[0;32m    926\u001b[0m resolve_checksum_context(request_dict, operation_model, api_params)\n\u001b[0;32m    928\u001b[0m service_id \u001b[39m=\u001b[39m \u001b[39mself\u001b[39m\u001b[39m.\u001b[39m_service_model\u001b[39m.\u001b[39mservice_id\u001b[39m.\u001b[39mhyphenize()\n",
      "File \u001b[1;32mc:\\Users\\zbe17\\miniconda3\\envs\\dc_env\\Lib\\site-packages\\botocore\\client.py:987\u001b[0m, in \u001b[0;36mBaseClient._convert_to_request_dict\u001b[1;34m(self, api_params, operation_model, endpoint_url, context, headers, set_user_agent_header)\u001b[0m\n\u001b[0;32m    978\u001b[0m \u001b[39mdef\u001b[39;00m \u001b[39m_convert_to_request_dict\u001b[39m(\n\u001b[0;32m    979\u001b[0m     \u001b[39mself\u001b[39m,\n\u001b[0;32m    980\u001b[0m     api_params,\n\u001b[1;32m   (...)\u001b[0m\n\u001b[0;32m    985\u001b[0m     set_user_agent_header\u001b[39m=\u001b[39m\u001b[39mTrue\u001b[39;00m,\n\u001b[0;32m    986\u001b[0m ):\n\u001b[1;32m--> 987\u001b[0m     api_params \u001b[39m=\u001b[39m \u001b[39mself\u001b[39;49m\u001b[39m.\u001b[39;49m_emit_api_params(\n\u001b[0;32m    988\u001b[0m         api_params, operation_model, context\n\u001b[0;32m    989\u001b[0m     )\n\u001b[0;32m    990\u001b[0m     request_dict \u001b[39m=\u001b[39m \u001b[39mself\u001b[39m\u001b[39m.\u001b[39m_serializer\u001b[39m.\u001b[39mserialize_to_request(\n\u001b[0;32m    991\u001b[0m         api_params, operation_model\n\u001b[0;32m    992\u001b[0m     )\n\u001b[0;32m    993\u001b[0m     \u001b[39mif\u001b[39;00m \u001b[39mnot\u001b[39;00m \u001b[39mself\u001b[39m\u001b[39m.\u001b[39m_client_config\u001b[39m.\u001b[39minject_host_prefix:\n",
      "File \u001b[1;32mc:\\Users\\zbe17\\miniconda3\\envs\\dc_env\\Lib\\site-packages\\botocore\\client.py:1026\u001b[0m, in \u001b[0;36mBaseClient._emit_api_params\u001b[1;34m(self, api_params, operation_model, context)\u001b[0m\n\u001b[0;32m   1018\u001b[0m responses \u001b[39m=\u001b[39m \u001b[39mself\u001b[39m\u001b[39m.\u001b[39mmeta\u001b[39m.\u001b[39mevents\u001b[39m.\u001b[39memit(\n\u001b[0;32m   1019\u001b[0m     \u001b[39mf\u001b[39m\u001b[39m'\u001b[39m\u001b[39mprovide-client-params.\u001b[39m\u001b[39m{\u001b[39;00mservice_id\u001b[39m}\u001b[39;00m\u001b[39m.\u001b[39m\u001b[39m{\u001b[39;00moperation_name\u001b[39m}\u001b[39;00m\u001b[39m'\u001b[39m,\n\u001b[0;32m   1020\u001b[0m     params\u001b[39m=\u001b[39mapi_params,\n\u001b[0;32m   1021\u001b[0m     model\u001b[39m=\u001b[39moperation_model,\n\u001b[0;32m   1022\u001b[0m     context\u001b[39m=\u001b[39mcontext,\n\u001b[0;32m   1023\u001b[0m )\n\u001b[0;32m   1024\u001b[0m api_params \u001b[39m=\u001b[39m first_non_none_response(responses, default\u001b[39m=\u001b[39mapi_params)\n\u001b[1;32m-> 1026\u001b[0m \u001b[39mself\u001b[39;49m\u001b[39m.\u001b[39;49mmeta\u001b[39m.\u001b[39;49mevents\u001b[39m.\u001b[39;49memit(\n\u001b[0;32m   1027\u001b[0m     \u001b[39mf\u001b[39;49m\u001b[39m'\u001b[39;49m\u001b[39mbefore-parameter-build.\u001b[39;49m\u001b[39m{\u001b[39;49;00mservice_id\u001b[39m}\u001b[39;49;00m\u001b[39m.\u001b[39;49m\u001b[39m{\u001b[39;49;00moperation_name\u001b[39m}\u001b[39;49;00m\u001b[39m'\u001b[39;49m,\n\u001b[0;32m   1028\u001b[0m     params\u001b[39m=\u001b[39;49mapi_params,\n\u001b[0;32m   1029\u001b[0m     model\u001b[39m=\u001b[39;49moperation_model,\n\u001b[0;32m   1030\u001b[0m     context\u001b[39m=\u001b[39;49mcontext,\n\u001b[0;32m   1031\u001b[0m )\n\u001b[0;32m   1032\u001b[0m \u001b[39mreturn\u001b[39;00m api_params\n",
      "File \u001b[1;32mc:\\Users\\zbe17\\miniconda3\\envs\\dc_env\\Lib\\site-packages\\botocore\\hooks.py:412\u001b[0m, in \u001b[0;36mEventAliaser.emit\u001b[1;34m(self, event_name, **kwargs)\u001b[0m\n\u001b[0;32m    410\u001b[0m \u001b[39mdef\u001b[39;00m \u001b[39memit\u001b[39m(\u001b[39mself\u001b[39m, event_name, \u001b[39m*\u001b[39m\u001b[39m*\u001b[39mkwargs):\n\u001b[0;32m    411\u001b[0m     aliased_event_name \u001b[39m=\u001b[39m \u001b[39mself\u001b[39m\u001b[39m.\u001b[39m_alias_event_name(event_name)\n\u001b[1;32m--> 412\u001b[0m     \u001b[39mreturn\u001b[39;00m \u001b[39mself\u001b[39;49m\u001b[39m.\u001b[39;49m_emitter\u001b[39m.\u001b[39;49memit(aliased_event_name, \u001b[39m*\u001b[39;49m\u001b[39m*\u001b[39;49mkwargs)\n",
      "File \u001b[1;32mc:\\Users\\zbe17\\miniconda3\\envs\\dc_env\\Lib\\site-packages\\botocore\\hooks.py:256\u001b[0m, in \u001b[0;36mHierarchicalEmitter.emit\u001b[1;34m(self, event_name, **kwargs)\u001b[0m\n\u001b[0;32m    245\u001b[0m \u001b[39mdef\u001b[39;00m \u001b[39memit\u001b[39m(\u001b[39mself\u001b[39m, event_name, \u001b[39m*\u001b[39m\u001b[39m*\u001b[39mkwargs):\n\u001b[0;32m    246\u001b[0m \u001b[39m    \u001b[39m\u001b[39m\"\"\"\u001b[39;00m\n\u001b[0;32m    247\u001b[0m \u001b[39m    Emit an event by name with arguments passed as keyword args.\u001b[39;00m\n\u001b[0;32m    248\u001b[0m \n\u001b[1;32m   (...)\u001b[0m\n\u001b[0;32m    254\u001b[0m \u001b[39m             handlers.\u001b[39;00m\n\u001b[0;32m    255\u001b[0m \u001b[39m    \"\"\"\u001b[39;00m\n\u001b[1;32m--> 256\u001b[0m     \u001b[39mreturn\u001b[39;00m \u001b[39mself\u001b[39;49m\u001b[39m.\u001b[39;49m_emit(event_name, kwargs)\n",
      "File \u001b[1;32mc:\\Users\\zbe17\\miniconda3\\envs\\dc_env\\Lib\\site-packages\\botocore\\hooks.py:239\u001b[0m, in \u001b[0;36mHierarchicalEmitter._emit\u001b[1;34m(self, event_name, kwargs, stop_on_response)\u001b[0m\n\u001b[0;32m    237\u001b[0m \u001b[39mfor\u001b[39;00m handler \u001b[39min\u001b[39;00m handlers_to_call:\n\u001b[0;32m    238\u001b[0m     logger\u001b[39m.\u001b[39mdebug(\u001b[39m'\u001b[39m\u001b[39mEvent \u001b[39m\u001b[39m%s\u001b[39;00m\u001b[39m: calling handler \u001b[39m\u001b[39m%s\u001b[39;00m\u001b[39m'\u001b[39m, event_name, handler)\n\u001b[1;32m--> 239\u001b[0m     response \u001b[39m=\u001b[39m handler(\u001b[39m*\u001b[39;49m\u001b[39m*\u001b[39;49mkwargs)\n\u001b[0;32m    240\u001b[0m     responses\u001b[39m.\u001b[39mappend((handler, response))\n\u001b[0;32m    241\u001b[0m     \u001b[39mif\u001b[39;00m stop_on_response \u001b[39mand\u001b[39;00m response \u001b[39mis\u001b[39;00m \u001b[39mnot\u001b[39;00m \u001b[39mNone\u001b[39;00m:\n",
      "File \u001b[1;32mc:\\Users\\zbe17\\miniconda3\\envs\\dc_env\\Lib\\site-packages\\botocore\\handlers.py:285\u001b[0m, in \u001b[0;36mvalidate_bucket_name\u001b[1;34m(params, **kwargs)\u001b[0m\n\u001b[0;32m    279\u001b[0m \u001b[39mif\u001b[39;00m \u001b[39mnot\u001b[39;00m VALID_BUCKET\u001b[39m.\u001b[39msearch(bucket) \u001b[39mand\u001b[39;00m \u001b[39mnot\u001b[39;00m VALID_S3_ARN\u001b[39m.\u001b[39msearch(bucket):\n\u001b[0;32m    280\u001b[0m     error_msg \u001b[39m=\u001b[39m (\n\u001b[0;32m    281\u001b[0m         \u001b[39mf\u001b[39m\u001b[39m'\u001b[39m\u001b[39mInvalid bucket name \u001b[39m\u001b[39m\"\u001b[39m\u001b[39m{\u001b[39;00mbucket\u001b[39m}\u001b[39;00m\u001b[39m\"\u001b[39m\u001b[39m: Bucket name must match \u001b[39m\u001b[39m'\u001b[39m\n\u001b[0;32m    282\u001b[0m         \u001b[39mf\u001b[39m\u001b[39m'\u001b[39m\u001b[39mthe regex \u001b[39m\u001b[39m\"\u001b[39m\u001b[39m{\u001b[39;00mVALID_BUCKET\u001b[39m.\u001b[39mpattern\u001b[39m}\u001b[39;00m\u001b[39m\"\u001b[39m\u001b[39m or be an ARN matching \u001b[39m\u001b[39m'\u001b[39m\n\u001b[0;32m    283\u001b[0m         \u001b[39mf\u001b[39m\u001b[39m'\u001b[39m\u001b[39mthe regex \u001b[39m\u001b[39m\"\u001b[39m\u001b[39m{\u001b[39;00mVALID_S3_ARN\u001b[39m.\u001b[39mpattern\u001b[39m}\u001b[39;00m\u001b[39m\"\u001b[39m\u001b[39m'\u001b[39m\n\u001b[0;32m    284\u001b[0m     )\n\u001b[1;32m--> 285\u001b[0m     \u001b[39mraise\u001b[39;00m ParamValidationError(report\u001b[39m=\u001b[39merror_msg)\n",
      "\u001b[1;31mParamValidationError\u001b[0m: Parameter validation failed:\nInvalid bucket name \"https:\": Bucket name must match the regex \"^[a-zA-Z0-9.\\-_]{1,255}$\" or be an ARN matching the regex \"^arn:(aws).*:(s3|s3-object-lambda):[a-z\\-0-9]*:[0-9]{12}:accesspoint[/:][a-zA-Z0-9\\-.]{1,63}$|^arn:(aws).*:s3-outposts:[a-z\\-0-9]+:[0-9]{12}:outpost[/:][a-zA-Z0-9\\-]{1,63}[/:]accesspoint[/:][a-zA-Z0-9\\-]{1,63}$\""
     ]
    }
   ],
   "source": [
    "import pandas as pd\n",
    "import requests\n",
    "import boto3\n",
    "\n",
    "\n",
    "from database_utils import DatabaseConnector \n",
    "from database_utils import DataExtractor\n",
    "from database_utils import DataCleaning\n",
    "\n",
    "database_connector = DatabaseConnector()\n",
    "data_extractor = DataExtractor()\n",
    "data_cleaning = DataCleaning()\n",
    "\n",
    "data_extractor = DataExtractor()\n",
    "\n",
    "data = data_extractor.extract_from_s3('https://data-handling-public.s3.eu-west-1.amazonaws.com/date_details.json')\n",
    "print(data)\n"
   ]
  }
 ],
 "metadata": {
  "kernelspec": {
   "display_name": "dc_env",
   "language": "python",
   "name": "python3"
  },
  "language_info": {
   "codemirror_mode": {
    "name": "ipython",
    "version": 3
   },
   "file_extension": ".py",
   "mimetype": "text/x-python",
   "name": "python",
   "nbconvert_exporter": "python",
   "pygments_lexer": "ipython3",
   "version": "3.11.2"
  },
  "orig_nbformat": 4
 },
 "nbformat": 4,
 "nbformat_minor": 2
}
