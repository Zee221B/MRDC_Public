{
 "cells": [
  {
   "cell_type": "code",
   "execution_count": 2,
   "metadata": {},
   "outputs": [
    {
     "name": "stdout",
     "output_type": "stream",
     "text": [
      "        level_0   index                             date_uuid first_name   \n",
      "0             0       0  9476f17e-5d6a-4117-874d-9cdb38ca1fa6       None  \\\n",
      "1             1       1  0423a395-a04d-4e4a-bd0f-d237cbd5a295       None   \n",
      "2             2       2  65187294-bb16-4519-adc0-787bbe423970       None   \n",
      "3             3       3  579e21f7-13cb-436b-83ad-33687a4eb337       None   \n",
      "4             4       4  00ab86c3-2039-4674-b9c1-adbcbbf525bd       None   \n",
      "...         ...     ...                                   ...        ...   \n",
      "120118   110549  110548  f0e8fff6-9998-4661-954b-0e258e09d33c       None   \n",
      "120119    82164   82164  1c80940a-d186-4ba9-9daa-8abd1aceae32       None   \n",
      "120120    97599   97599  58598aca-049c-418e-8e39-46327634a7f1     Sharon   \n",
      "120121   106591  106591  3a76f661-0707-4fbc-9862-f21d3249f581       None   \n",
      "120122   118806  118804  98fdc8b3-f619-4471-86b4-f44c26880166       None   \n",
      "\n",
      "       last_name                             user_uuid       card_number   \n",
      "0           None  93caf182-e4e9-4c6e-bebb-60a1a9dcf9b8    30060773296197  \\\n",
      "1           None  8fe96c3a-d62d-4eb5-b313-cf12d9126a49   349624180933183   \n",
      "2           None  fc461df4-b919-48b2-909e-55c95a03fe6b  3529023891650490   \n",
      "3           None  6104719f-ef14-4b09-bf04-fb0c4620acb0   213142929492281   \n",
      "4           None  9523a6d3-b2dd-4670-a51a-36aebc89f579      502067329974   \n",
      "...          ...                                   ...               ...   \n",
      "120118      None  95c74b0a-d495-4359-b1c0-e2da511e8403      575421945446   \n",
      "120119      None  5d6fa6fe-e583-4baf-8bbb-d1dd6e2b551f  4971858637664481   \n",
      "120120    Miller  48b7f1fc-db13-4611-ad8e-3dac0b759488  4971858637664481   \n",
      "120121      None  51c0b538-7ded-4697-8e84-9f7aa13f9112  4971858637664481   \n",
      "120122      None  e74907ca-1a4a-476c-a3ca-6b898b0964c2  4971858637664481   \n",
      "\n",
      "          store_code product_code     1  product_quantity  \n",
      "0        BL-8387506C  R7-3126933h  None                 3  \n",
      "1       WEB-1388012W  C2-7287916l  None                 2  \n",
      "2        CH-01D85C8D  S7-1175877v  None                 2  \n",
      "3        CL-C183BE4B  D8-8421505n  None                 2  \n",
      "4        SO-B5B9CB3B  B6-2596063a  None                 2  \n",
      "...              ...          ...   ...               ...  \n",
      "120118   KA-FA7ED3B8  C9-6827622o  None                 4  \n",
      "120119   WA-A41DA979  I0-1146408B  None                 1  \n",
      "120120  WEB-1388012W  A4-5443400b  None                 4  \n",
      "120121   SO-6D328417  E9-2782979e  None                 4  \n",
      "120122   SO-6D328417  m0-0281207X  None                 3  \n",
      "\n",
      "[120123 rows x 11 columns]\n"
     ]
    }
   ],
   "source": [
    "from data_extraction import DataExtractor\n",
    "from data_cleaning import DataCleaning\n",
    "from database_utils import DatabaseConnector\n",
    "\n",
    "database_connector = DatabaseConnector()\n",
    "data_extractor = DataExtractor()\n",
    "data_cleaning = DataCleaning()\n",
    "\n",
    "engine = database_connector.init_db_engine('db_creds.yml')\n",
    "upload_engine = database_connector.init_db_engine('db_creds2.yml')\n",
    "table_names = database_connector.list_db_tables(engine)\n",
    "\n",
    "order_table = data_extractor.read_rds_table(database_connector, table_names[2])\n",
    "print(order_table)"
   ]
  },
  {
   "cell_type": "code",
   "execution_count": 3,
   "metadata": {},
   "outputs": [
    {
     "name": "stdout",
     "output_type": "stream",
     "text": [
      "<class 'pandas.core.frame.DataFrame'>\n",
      "RangeIndex: 120123 entries, 0 to 120122\n",
      "Data columns (total 11 columns):\n",
      " #   Column            Non-Null Count   Dtype \n",
      "---  ------            --------------   ----- \n",
      " 0   level_0           120123 non-null  int64 \n",
      " 1   index             120123 non-null  int64 \n",
      " 2   date_uuid         120123 non-null  object\n",
      " 3   first_name        15284 non-null   object\n",
      " 4   last_name         15284 non-null   object\n",
      " 5   user_uuid         120123 non-null  object\n",
      " 6   card_number       120123 non-null  int64 \n",
      " 7   store_code        120123 non-null  object\n",
      " 8   product_code      120123 non-null  object\n",
      " 9   1                 0 non-null       object\n",
      " 10  product_quantity  120123 non-null  int64 \n",
      "dtypes: int64(4), object(7)\n",
      "memory usage: 10.1+ MB\n"
     ]
    }
   ],
   "source": [
    "order_table.info()"
   ]
  },
  {
   "cell_type": "code",
   "execution_count": 5,
   "metadata": {},
   "outputs": [
    {
     "ename": "SyntaxError",
     "evalue": "invalid syntax (1734098763.py, line 1)",
     "output_type": "error",
     "traceback": [
      "\u001b[1;36m  Cell \u001b[1;32mIn[5], line 1\u001b[1;36m\u001b[0m\n\u001b[1;33m    ALTER TABLE {order_table}\u001b[0m\n\u001b[1;37m          ^\u001b[0m\n\u001b[1;31mSyntaxError\u001b[0m\u001b[1;31m:\u001b[0m invalid syntax\n"
     ]
    }
   ],
   "source": [
    "ALTER TABLE {order_table}\n",
    "   ALTER COLUMN {date_uuid} TYPE {UUID}"
   ]
  },
  {
   "cell_type": "code",
   "execution_count": 3,
   "metadata": {},
   "outputs": [],
   "source": [
    "order_table = order_table.drop('first_name', axis=1)"
   ]
  },
  {
   "cell_type": "code",
   "execution_count": 7,
   "metadata": {},
   "outputs": [],
   "source": [
    "order_table = order_table.drop('last_name', axis=1)"
   ]
  },
  {
   "cell_type": "code",
   "execution_count": null,
   "metadata": {},
   "outputs": [],
   "source": [
    "order_table = order_table.drop('1', axis=1)"
   ]
  },
  {
   "cell_type": "code",
   "execution_count": 8,
   "metadata": {},
   "outputs": [],
   "source": [
    "order_table.to_string('orders.txt')"
   ]
  }
 ],
 "metadata": {
  "kernelspec": {
   "display_name": "dc_env",
   "language": "python",
   "name": "python3"
  },
  "language_info": {
   "codemirror_mode": {
    "name": "ipython",
    "version": 3
   },
   "file_extension": ".py",
   "mimetype": "text/x-python",
   "name": "python",
   "nbconvert_exporter": "python",
   "pygments_lexer": "ipython3",
   "version": "3.11.2"
  },
  "orig_nbformat": 4
 },
 "nbformat": 4,
 "nbformat_minor": 2
}
