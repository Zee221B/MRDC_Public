{
 "cells": [
  {
   "cell_type": "code",
   "execution_count": 132,
   "metadata": {},
   "outputs": [
    {
     "name": "stdout",
     "output_type": "stream",
     "text": [
      "            card_number expiry_date                card_provider   \n",
      "0        30060773296197       09/26  Diners Club / Carte Blanche  \\\n",
      "1       349624180933183       10/23             American Express   \n",
      "2      3529023891650490       06/23                 JCB 16 digit   \n",
      "3       213142929492281       09/27                 JCB 15 digit   \n",
      "4          502067329974       10/25                      Maestro   \n",
      "...                 ...         ...                          ...   \n",
      "15304   180036921556789       12/28                 JCB 15 digit   \n",
      "15305   180018030448512       11/24                 JCB 15 digit   \n",
      "15306  3569953313547220       04/24                 JCB 16 digit   \n",
      "15307  4444521712606810       06/27                VISA 16 digit   \n",
      "15308   372031786522735       02/30             American Express   \n",
      "\n",
      "      date_payment_confirmed  \n",
      "0                 2015-11-25  \n",
      "1                 2001-06-18  \n",
      "2                 2000-12-26  \n",
      "3                 2011-02-12  \n",
      "4                 1997-03-13  \n",
      "...                      ...  \n",
      "15304             1997-06-06  \n",
      "15305             2004-06-16  \n",
      "15306             2020-02-05  \n",
      "15307             2008-06-16  \n",
      "15308             2009-02-04  \n",
      "\n",
      "[15309 rows x 4 columns]\n"
     ]
    }
   ],
   "source": [
    "#to do list\n",
    "#remove duplicates - done\n",
    "#remove null values - done\n",
    "#remove error in formatting - done\n",
    "\n",
    "import pandas as pd\n",
    "import tabula\n",
    "from tabula import read_pdf\n",
    "\n",
    "\n",
    "from database_utils import DatabaseConnector \n",
    "from database_utils import DataExtractor\n",
    "from database_utils import DataCleaning\n",
    "\n",
    "database_connector = DatabaseConnector()\n",
    "data_extractor = DataExtractor()\n",
    "data_cleaning = DataCleaning()\n",
    "\n",
    "pdf_path = \"https://data-handling-public.s3.eu-west-1.amazonaws.com/card_details.pdf\"\n",
    "df2 = tabula.read_pdf(pdf_path, pages='all')\n",
    "df2 = pd.concat(tabula.read_pdf(pdf_path, pages='all'), ignore_index=True)\n",
    "print(df2)\n"
   ]
  },
  {
   "cell_type": "code",
   "execution_count": 138,
   "metadata": {},
   "outputs": [
    {
     "name": "stdout",
     "output_type": "stream",
     "text": [
      "<class 'pandas.core.frame.DataFrame'>\n",
      "RangeIndex: 15309 entries, 0 to 15308\n",
      "Data columns (total 4 columns):\n",
      " #   Column                  Non-Null Count  Dtype         \n",
      "---  ------                  --------------  -----         \n",
      " 0   card_number             15309 non-null  string        \n",
      " 1   expiry_date             1312 non-null   datetime64[ns]\n",
      " 2   card_provider           15309 non-null  category      \n",
      " 3   date_payment_confirmed  15276 non-null  datetime64[ns]\n",
      "dtypes: category(1), datetime64[ns](2), string(1)\n",
      "memory usage: 374.6 KB\n"
     ]
    }
   ],
   "source": [
    "df2.info()"
   ]
  },
  {
   "cell_type": "code",
   "execution_count": 134,
   "metadata": {},
   "outputs": [
    {
     "data": {
      "text/plain": [
       "0          30060773296197\n",
       "1         349624180933183\n",
       "2        3529023891650490\n",
       "3         213142929492281\n",
       "4            502067329974\n",
       "               ...       \n",
       "15304     180036921556789\n",
       "15305     180018030448512\n",
       "15306    3569953313547220\n",
       "15307    4444521712606810\n",
       "15308     372031786522735\n",
       "Name: card_number, Length: 15309, dtype: string"
      ]
     },
     "execution_count": 134,
     "metadata": {},
     "output_type": "execute_result"
    }
   ],
   "source": [
    "df2['card_number'] = df2['card_number'].astype('string')\n",
    "df2['card_number']"
   ]
  },
  {
   "cell_type": "code",
   "execution_count": 135,
   "metadata": {},
   "outputs": [
    {
     "name": "stderr",
     "output_type": "stream",
     "text": [
      "C:\\Users\\zbe17\\AppData\\Local\\Temp\\ipykernel_14816\\675957959.py:2: UserWarning: The argument 'infer_datetime_format' is deprecated and will be removed in a future version. A strict version of it is now the default, see https://pandas.pydata.org/pdeps/0004-consistent-to-datetime-parsing.html. You can safely remove this argument.\n",
      "  df2[\"expiry_date\"] = pd.to_datetime(df2[\"expiry_date\"], infer_datetime_format=True, errors='coerce')\n",
      "C:\\Users\\zbe17\\AppData\\Local\\Temp\\ipykernel_14816\\675957959.py:2: UserWarning: Could not infer format, so each element will be parsed individually, falling back to `dateutil`. To ensure parsing is consistent and as-expected, please specify a format.\n",
      "  df2[\"expiry_date\"] = pd.to_datetime(df2[\"expiry_date\"], infer_datetime_format=True, errors='coerce')\n"
     ]
    }
   ],
   "source": [
    "df2[\"expiry_date\"]\n",
    "df2[\"expiry_date\"] = pd.to_datetime(df2[\"expiry_date\"], infer_datetime_format=True, errors='coerce') "
   ]
  },
  {
   "cell_type": "code",
   "execution_count": 136,
   "metadata": {},
   "outputs": [
    {
     "name": "stderr",
     "output_type": "stream",
     "text": [
      "C:\\Users\\zbe17\\AppData\\Local\\Temp\\ipykernel_14816\\13708617.py:2: UserWarning: The argument 'infer_datetime_format' is deprecated and will be removed in a future version. A strict version of it is now the default, see https://pandas.pydata.org/pdeps/0004-consistent-to-datetime-parsing.html. You can safely remove this argument.\n",
      "  df2[\"date_payment_confirmed\"] = pd.to_datetime(df2[\"date_payment_confirmed\"], infer_datetime_format=True, errors='coerce')\n"
     ]
    }
   ],
   "source": [
    "df2[\"date_payment_confirmed\"]\n",
    "df2[\"date_payment_confirmed\"] = pd.to_datetime(df2[\"date_payment_confirmed\"], infer_datetime_format=True, errors='coerce')"
   ]
  },
  {
   "cell_type": "code",
   "execution_count": 137,
   "metadata": {},
   "outputs": [
    {
     "data": {
      "text/plain": [
       "0        Diners Club / Carte Blanche\n",
       "1                   American Express\n",
       "2                       JCB 16 digit\n",
       "3                       JCB 15 digit\n",
       "4                            Maestro\n",
       "                    ...             \n",
       "15304                   JCB 15 digit\n",
       "15305                   JCB 15 digit\n",
       "15306                   JCB 16 digit\n",
       "15307                  VISA 16 digit\n",
       "15308               American Express\n",
       "Name: card_provider, Length: 15309, dtype: category\n",
       "Categories (25, object): ['1M38DYQTZV', '5CJH7ABGDR', '5MFWFBZRM9', 'American Express', ..., 'VISA 16 digit', 'VISA 19 digit', 'WJVMUO4QX6', 'XGZBYBYGUW']"
      ]
     },
     "execution_count": 137,
     "metadata": {},
     "output_type": "execute_result"
    }
   ],
   "source": [
    "df2['card_provider'] = df2['card_provider'].astype('category')\n",
    "df2['card_provider']"
   ]
  },
  {
   "cell_type": "code",
   "execution_count": 59,
   "metadata": {},
   "outputs": [
    {
     "data": {
      "text/html": [
       "<div>\n",
       "<style scoped>\n",
       "    .dataframe tbody tr th:only-of-type {\n",
       "        vertical-align: middle;\n",
       "    }\n",
       "\n",
       "    .dataframe tbody tr th {\n",
       "        vertical-align: top;\n",
       "    }\n",
       "\n",
       "    .dataframe thead th {\n",
       "        text-align: right;\n",
       "    }\n",
       "</style>\n",
       "<table border=\"1\" class=\"dataframe\">\n",
       "  <thead>\n",
       "    <tr style=\"text-align: right;\">\n",
       "      <th></th>\n",
       "      <th>expiry_date</th>\n",
       "      <th>date_payment_confirmed</th>\n",
       "    </tr>\n",
       "  </thead>\n",
       "  <tbody>\n",
       "    <tr>\n",
       "      <th>count</th>\n",
       "      <td>1312</td>\n",
       "      <td>15276</td>\n",
       "    </tr>\n",
       "    <tr>\n",
       "      <th>mean</th>\n",
       "      <td>2032-05-30 13:58:32.195121664</td>\n",
       "      <td>2007-12-14 07:28:13.951296</td>\n",
       "    </tr>\n",
       "    <tr>\n",
       "      <th>min</th>\n",
       "      <td>2032-01-01 00:00:00</td>\n",
       "      <td>1992-11-21 00:00:00</td>\n",
       "    </tr>\n",
       "    <tr>\n",
       "      <th>25%</th>\n",
       "      <td>2032-03-01 00:00:00</td>\n",
       "      <td>2000-05-15 00:00:00</td>\n",
       "    </tr>\n",
       "    <tr>\n",
       "      <th>50%</th>\n",
       "      <td>2032-06-01 00:00:00</td>\n",
       "      <td>2007-12-11 00:00:00</td>\n",
       "    </tr>\n",
       "    <tr>\n",
       "      <th>75%</th>\n",
       "      <td>2032-09-01 00:00:00</td>\n",
       "      <td>2015-07-05 12:00:00</td>\n",
       "    </tr>\n",
       "    <tr>\n",
       "      <th>max</th>\n",
       "      <td>2032-11-01 00:00:00</td>\n",
       "      <td>2022-11-20 00:00:00</td>\n",
       "    </tr>\n",
       "  </tbody>\n",
       "</table>\n",
       "</div>"
      ],
      "text/plain": [
       "                         expiry_date      date_payment_confirmed\n",
       "count                           1312                       15276\n",
       "mean   2032-05-30 13:58:32.195121664  2007-12-14 07:28:13.951296\n",
       "min              2032-01-01 00:00:00         1992-11-21 00:00:00\n",
       "25%              2032-03-01 00:00:00         2000-05-15 00:00:00\n",
       "50%              2032-06-01 00:00:00         2007-12-11 00:00:00\n",
       "75%              2032-09-01 00:00:00         2015-07-05 12:00:00\n",
       "max              2032-11-01 00:00:00         2022-11-20 00:00:00"
      ]
     },
     "execution_count": 59,
     "metadata": {},
     "output_type": "execute_result"
    }
   ],
   "source": [
    "df2.describe()\n"
   ]
  },
  {
   "cell_type": "code",
   "execution_count": 47,
   "metadata": {},
   "outputs": [
    {
     "name": "stdout",
     "output_type": "stream",
     "text": [
      "0        Diners Club / Carte Blanche\n",
      "1                   American Express\n",
      "2                       JCB 16 digit\n",
      "3                       JCB 15 digit\n",
      "4                            Maestro\n",
      "                    ...             \n",
      "15304                   JCB 15 digit\n",
      "15305                   JCB 15 digit\n",
      "15306                   JCB 16 digit\n",
      "15307                  VISA 16 digit\n",
      "15308               American Express\n",
      "Name: card_provider, Length: 15309, dtype: category\n",
      "Categories (25, object): ['1M38DYQTZV', '5CJH7ABGDR', '5MFWFBZRM9', 'American Express', ..., 'VISA 16 digit', 'VISA 19 digit', 'WJVMUO4QX6', 'XGZBYBYGUW']\n"
     ]
    }
   ],
   "source": [
    "df2['card_provider'].value_counts()\n",
    "dfresult = df2['card_provider'].dropna()\n",
    "print(dfresult)\n"
   ]
  },
  {
   "cell_type": "code",
   "execution_count": 49,
   "metadata": {},
   "outputs": [
    {
     "name": "stdout",
     "output_type": "stream",
     "text": [
      "0       2015-11-25\n",
      "1       2001-06-18\n",
      "2       2000-12-26\n",
      "3       2011-02-12\n",
      "4       1997-03-13\n",
      "           ...    \n",
      "15304   1997-06-06\n",
      "15305   2004-06-16\n",
      "15306   2020-02-05\n",
      "15307   2008-06-16\n",
      "15308   2009-02-04\n",
      "Name: date_payment_confirmed, Length: 15276, dtype: datetime64[ns]\n"
     ]
    }
   ],
   "source": [
    "df2['date_payment_confirmed'].value_counts()\n",
    "dfresult = df2['date_payment_confirmed'].dropna()\n",
    "print(dfresult)"
   ]
  },
  {
   "cell_type": "code",
   "execution_count": 98,
   "metadata": {},
   "outputs": [
    {
     "data": {
      "text/plain": [
       "10"
      ]
     },
     "execution_count": 98,
     "metadata": {},
     "output_type": "execute_result"
    }
   ],
   "source": [
    "df2.duplicated().sum()\n",
    "df2.duplicated(keep='first')"
   ]
  },
  {
   "cell_type": "code",
   "execution_count": 112,
   "metadata": {},
   "outputs": [
    {
     "name": "stdout",
     "output_type": "stream",
     "text": [
      "0          30060773296197\n",
      "1         349624180933183\n",
      "2        3529023891650490\n",
      "3         213142929492281\n",
      "4            502067329974\n",
      "               ...       \n",
      "15304     180036921556789\n",
      "15305     180018030448512\n",
      "15306    3569953313547220\n",
      "15307    4444521712606810\n",
      "15308     372031786522735\n",
      "Name: card_number, Length: 15309, dtype: object\n"
     ]
    }
   ],
   "source": [
    "df2['card_number'].value_counts()\n",
    "dfresult = df2['card_number'].dropna()\n",
    "print(dfresult)"
   ]
  },
  {
   "cell_type": "code",
   "execution_count": 139,
   "metadata": {},
   "outputs": [
    {
     "name": "stdout",
     "output_type": "stream",
     "text": [
      "16      2032-02-01\n",
      "19      2032-09-01\n",
      "26      2032-03-01\n",
      "32      2032-04-01\n",
      "64      2032-09-01\n",
      "           ...    \n",
      "15236   2032-04-01\n",
      "15240   2032-04-01\n",
      "15268   2032-07-01\n",
      "15279   2032-01-01\n",
      "15294   2032-08-01\n",
      "Name: expiry_date, Length: 1312, dtype: datetime64[ns]\n"
     ]
    }
   ],
   "source": [
    "df2['expiry_date'].value_counts()\n",
    "dfresult = df2['expiry_date'].dropna()\n",
    "print(dfresult)"
   ]
  },
  {
   "cell_type": "code",
   "execution_count": 109,
   "metadata": {},
   "outputs": [
    {
     "name": "stdout",
     "output_type": "stream",
     "text": [
      "0        Diners Club / Carte Blanche\n",
      "1                   American Express\n",
      "2                       JCB 16 digit\n",
      "3                       JCB 15 digit\n",
      "4                            Maestro\n",
      "                    ...             \n",
      "15304                   JCB 15 digit\n",
      "15305                   JCB 15 digit\n",
      "15306                   JCB 16 digit\n",
      "15307                  VISA 16 digit\n",
      "15308               American Express\n",
      "Name: card_provider, Length: 15309, dtype: object\n"
     ]
    }
   ],
   "source": [
    "df2['card_provider'].value_counts()\n",
    "dfresult = df2['card_provider'].dropna()\n",
    "print(dfresult)"
   ]
  },
  {
   "cell_type": "code",
   "execution_count": 110,
   "metadata": {},
   "outputs": [
    {
     "name": "stdout",
     "output_type": "stream",
     "text": [
      "0        2015-11-25\n",
      "1        2001-06-18\n",
      "2        2000-12-26\n",
      "3        2011-02-12\n",
      "4        1997-03-13\n",
      "            ...    \n",
      "15304    1997-06-06\n",
      "15305    2004-06-16\n",
      "15306    2020-02-05\n",
      "15307    2008-06-16\n",
      "15308    2009-02-04\n",
      "Name: date_payment_confirmed, Length: 15309, dtype: object\n"
     ]
    }
   ],
   "source": [
    "df2['date_payment_confirmed'].value_counts()\n",
    "dfresult = df2['date_payment_confirmed'].dropna()\n",
    "print(dfresult)"
   ]
  },
  {
   "cell_type": "code",
   "execution_count": 140,
   "metadata": {},
   "outputs": [
    {
     "data": {
      "text/plain": [
       "expiry_date\n",
       "2032-10-01    148\n",
       "2032-01-01    135\n",
       "2032-06-01    127\n",
       "2032-09-01    125\n",
       "2032-05-01    125\n",
       "2032-08-01    124\n",
       "2032-07-01    118\n",
       "2032-03-01    117\n",
       "2032-04-01    112\n",
       "2032-02-01    103\n",
       "2032-11-01     78\n",
       "Name: count, dtype: int64"
      ]
     },
     "execution_count": 140,
     "metadata": {},
     "output_type": "execute_result"
    }
   ],
   "source": [
    "df2['expiry_date'].value_counts()"
   ]
  },
  {
   "cell_type": "code",
   "execution_count": 144,
   "metadata": {},
   "outputs": [
    {
     "name": "stdout",
     "output_type": "stream",
     "text": [
      "['VISA 16 digit', 'JCB 16 digit', 'VISA 13 digit', 'VISA 19 digit', 'JCB 15 digit', 'Diners Club / Carte Blanche', 'American Express', 'Maestro', 'Discover', 'Mastercard']\n"
     ]
    },
    {
     "data": {
      "text/html": [
       "<div>\n",
       "<style scoped>\n",
       "    .dataframe tbody tr th:only-of-type {\n",
       "        vertical-align: middle;\n",
       "    }\n",
       "\n",
       "    .dataframe tbody tr th {\n",
       "        vertical-align: top;\n",
       "    }\n",
       "\n",
       "    .dataframe thead th {\n",
       "        text-align: right;\n",
       "    }\n",
       "</style>\n",
       "<table border=\"1\" class=\"dataframe\">\n",
       "  <thead>\n",
       "    <tr style=\"text-align: right;\">\n",
       "      <th></th>\n",
       "      <th>card_number</th>\n",
       "      <th>expiry_date</th>\n",
       "      <th>date_payment_confirmed</th>\n",
       "    </tr>\n",
       "    <tr>\n",
       "      <th>card_provider</th>\n",
       "      <th></th>\n",
       "      <th></th>\n",
       "      <th></th>\n",
       "    </tr>\n",
       "  </thead>\n",
       "  <tbody>\n",
       "    <tr>\n",
       "      <th>Diners Club / Carte Blanche</th>\n",
       "      <td>30060773296197</td>\n",
       "      <td>NaT</td>\n",
       "      <td>2015-11-25</td>\n",
       "    </tr>\n",
       "    <tr>\n",
       "      <th>American Express</th>\n",
       "      <td>349624180933183</td>\n",
       "      <td>NaT</td>\n",
       "      <td>2001-06-18</td>\n",
       "    </tr>\n",
       "    <tr>\n",
       "      <th>JCB 16 digit</th>\n",
       "      <td>3529023891650490</td>\n",
       "      <td>NaT</td>\n",
       "      <td>2000-12-26</td>\n",
       "    </tr>\n",
       "    <tr>\n",
       "      <th>JCB 15 digit</th>\n",
       "      <td>213142929492281</td>\n",
       "      <td>NaT</td>\n",
       "      <td>2011-02-12</td>\n",
       "    </tr>\n",
       "    <tr>\n",
       "      <th>Maestro</th>\n",
       "      <td>502067329974</td>\n",
       "      <td>NaT</td>\n",
       "      <td>1997-03-13</td>\n",
       "    </tr>\n",
       "    <tr>\n",
       "      <th>...</th>\n",
       "      <td>...</td>\n",
       "      <td>...</td>\n",
       "      <td>...</td>\n",
       "    </tr>\n",
       "    <tr>\n",
       "      <th>JCB 15 digit</th>\n",
       "      <td>180036921556789</td>\n",
       "      <td>NaT</td>\n",
       "      <td>1997-06-06</td>\n",
       "    </tr>\n",
       "    <tr>\n",
       "      <th>JCB 15 digit</th>\n",
       "      <td>180018030448512</td>\n",
       "      <td>NaT</td>\n",
       "      <td>2004-06-16</td>\n",
       "    </tr>\n",
       "    <tr>\n",
       "      <th>JCB 16 digit</th>\n",
       "      <td>3569953313547220</td>\n",
       "      <td>NaT</td>\n",
       "      <td>2020-02-05</td>\n",
       "    </tr>\n",
       "    <tr>\n",
       "      <th>VISA 16 digit</th>\n",
       "      <td>4444521712606810</td>\n",
       "      <td>NaT</td>\n",
       "      <td>2008-06-16</td>\n",
       "    </tr>\n",
       "    <tr>\n",
       "      <th>American Express</th>\n",
       "      <td>372031786522735</td>\n",
       "      <td>NaT</td>\n",
       "      <td>2009-02-04</td>\n",
       "    </tr>\n",
       "  </tbody>\n",
       "</table>\n",
       "<p>15284 rows × 3 columns</p>\n",
       "</div>"
      ],
      "text/plain": [
       "                                  card_number expiry_date   \n",
       "card_provider                                               \n",
       "Diners Club / Carte Blanche    30060773296197         NaT  \\\n",
       "American Express              349624180933183         NaT   \n",
       "JCB 16 digit                 3529023891650490         NaT   \n",
       "JCB 15 digit                  213142929492281         NaT   \n",
       "Maestro                          502067329974         NaT   \n",
       "...                                       ...         ...   \n",
       "JCB 15 digit                  180036921556789         NaT   \n",
       "JCB 15 digit                  180018030448512         NaT   \n",
       "JCB 16 digit                 3569953313547220         NaT   \n",
       "VISA 16 digit                4444521712606810         NaT   \n",
       "American Express              372031786522735         NaT   \n",
       "\n",
       "                            date_payment_confirmed  \n",
       "card_provider                                       \n",
       "Diners Club / Carte Blanche             2015-11-25  \n",
       "American Express                        2001-06-18  \n",
       "JCB 16 digit                            2000-12-26  \n",
       "JCB 15 digit                            2011-02-12  \n",
       "Maestro                                 1997-03-13  \n",
       "...                                            ...  \n",
       "JCB 15 digit                            1997-06-06  \n",
       "JCB 15 digit                            2004-06-16  \n",
       "JCB 16 digit                            2020-02-05  \n",
       "VISA 16 digit                           2008-06-16  \n",
       "American Express                        2009-02-04  \n",
       "\n",
       "[15284 rows x 3 columns]"
      ]
     },
     "execution_count": 144,
     "metadata": {},
     "output_type": "execute_result"
    }
   ],
   "source": [
    "df2['card_provider'].value_counts()\n",
    "my_card_provider = [\"VISA 16 digit\", \"JCB 16 digit\", \"VISA 13 digit\", \"VISA 19 digit\", \"JCB 15 digit\", \"Diners Club / Carte Blanche\", \"American Express\", \"Maestro\", \"Discover\", \"Mastercard\"]\n",
    "print(my_card_provider)\n",
    "\n",
    "df2[df2.card_provider.isin(my_card_provider)].set_index('card_provider')"
   ]
  }
 ],
 "metadata": {
  "kernelspec": {
   "display_name": "base",
   "language": "python",
   "name": "python3"
  },
  "language_info": {
   "codemirror_mode": {
    "name": "ipython",
    "version": 3
   },
   "file_extension": ".py",
   "mimetype": "text/x-python",
   "name": "python",
   "nbconvert_exporter": "python",
   "pygments_lexer": "ipython3",
   "version": "3.11.2"
  },
  "orig_nbformat": 4
 },
 "nbformat": 4,
 "nbformat_minor": 2
}
